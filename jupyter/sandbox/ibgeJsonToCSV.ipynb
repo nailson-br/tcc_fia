{
 "cells": [
  {
   "cell_type": "code",
   "execution_count": 3,
   "id": "9f3c043c-6b92-4023-9e42-244625039c8b",
   "metadata": {},
   "outputs": [],
   "source": [
    "import boto3\n",
    "import pandas as pd\n",
    "from configparser import ConfigParser\n",
    "from io import BytesIO"
   ]
  },
  {
   "cell_type": "code",
   "execution_count": 4,
   "id": "bbe36f42-5c2b-425e-aeed-d657b7077ed5",
   "metadata": {},
   "outputs": [
    {
     "data": {
      "text/plain": [
       "['../config/config.ini']"
      ]
     },
     "execution_count": 4,
     "metadata": {},
     "output_type": "execute_result"
    }
   ],
   "source": [
    "# Carregar as configurações do arquivo ini\n",
    "config = ConfigParser()\n",
    "config.read(\"../config/config.ini\")"
   ]
  },
  {
   "cell_type": "code",
   "execution_count": 5,
   "id": "c635c505-53e7-42d2-8f0d-16d10cc6e6a1",
   "metadata": {},
   "outputs": [],
   "source": [
    "# Configurações para conexão com o MinIO/S3\n",
    "endpoint = config.get(\"MinIO\", \"endpoint\")\n",
    "access_key = config.get(\"MinIO\", \"access_key\")\n",
    "secret_key = config.get(\"MinIO\", \"secret_key\")\n",
    "bucket_raw = config.get(\"Bucket\", \"bucket_raw\")\n",
    "bucket_context = config.get(\"Bucket\", \"bucket_context\")\n",
    "prefix_municipios_ibge_json = config.get(\"Bucket\", \"prefix_municipios_ibge_json\")\n",
    "prefix_municipios_ibge_csv = config.get(\"Bucket\", \"prefix_municipios_ibge_csv\")"
   ]
  },
  {
   "cell_type": "code",
   "execution_count": 8,
   "id": "b1245026-5e2d-4fda-8e56-8fcdc6fec9d9",
   "metadata": {},
   "outputs": [],
   "source": [
    "# Nomes dos arquivos\n",
    "arquivo_origem = config.get(\"FILE\", \"municipios_ibge_json\")\n",
    "arquivo_destino = config.get(\"FILE\", \"municipios_ibge_csv\")"
   ]
  },
  {
   "cell_type": "code",
   "execution_count": 7,
   "id": "29077657-ef5a-4772-9b84-e7f32b2d0fe8",
   "metadata": {},
   "outputs": [],
   "source": [
    "# Inicializar o cliente boto3\n",
    "minio_client = boto3.client('s3',\n",
    "                         endpoint_url=endpoint,\n",
    "                         aws_access_key_id=access_key,\n",
    "                         aws_secret_access_key=secret_key)\n"
   ]
  },
  {
   "cell_type": "code",
   "execution_count": 9,
   "id": "e7f2e9bc-e1c2-476f-8135-7e60bcff976c",
   "metadata": {},
   "outputs": [],
   "source": [
    "# Carregar o objeto do MinIO\n",
    "response = minio_client.get_object(Bucket=bucket_raw, Key=prefix_municipios_ibge_json + arquivo_origem)\n",
    "file_content = response['Body'].read()"
   ]
  },
  {
   "cell_type": "code",
   "execution_count": 10,
   "id": "16715062-fd5d-4071-9f36-d7a3cadafcee",
   "metadata": {},
   "outputs": [],
   "source": [
    "# Transformar os bytes em um DataFrame usando pandas\n",
    "data = BytesIO(file_content)\n",
    "df = pd.read_json(data)"
   ]
  },
  {
   "cell_type": "code",
   "execution_count": 11,
   "id": "6e738cd5-f194-4b6a-bca9-74bad92ea43c",
   "metadata": {},
   "outputs": [
    {
     "data": {
      "text/html": [
       "<div>\n",
       "<style scoped>\n",
       "    .dataframe tbody tr th:only-of-type {\n",
       "        vertical-align: middle;\n",
       "    }\n",
       "\n",
       "    .dataframe tbody tr th {\n",
       "        vertical-align: top;\n",
       "    }\n",
       "\n",
       "    .dataframe thead th {\n",
       "        text-align: right;\n",
       "    }\n",
       "</style>\n",
       "<table border=\"1\" class=\"dataframe\">\n",
       "  <thead>\n",
       "    <tr style=\"text-align: right;\">\n",
       "      <th></th>\n",
       "      <th>id</th>\n",
       "      <th>nome</th>\n",
       "      <th>microrregiao</th>\n",
       "      <th>regiao-imediata</th>\n",
       "    </tr>\n",
       "  </thead>\n",
       "  <tbody>\n",
       "    <tr>\n",
       "      <th>0</th>\n",
       "      <td>1100015</td>\n",
       "      <td>Alta Floresta D'Oeste</td>\n",
       "      <td>{'id': 11006, 'nome': 'Cacoal', 'mesorregiao':...</td>\n",
       "      <td>{'id': 110005, 'nome': 'Cacoal', 'regiao-inter...</td>\n",
       "    </tr>\n",
       "    <tr>\n",
       "      <th>1</th>\n",
       "      <td>1100023</td>\n",
       "      <td>Ariquemes</td>\n",
       "      <td>{'id': 11003, 'nome': 'Ariquemes', 'mesorregia...</td>\n",
       "      <td>{'id': 110002, 'nome': 'Ariquemes', 'regiao-in...</td>\n",
       "    </tr>\n",
       "    <tr>\n",
       "      <th>2</th>\n",
       "      <td>1100031</td>\n",
       "      <td>Cabixi</td>\n",
       "      <td>{'id': 11008, 'nome': 'Colorado do Oeste', 'me...</td>\n",
       "      <td>{'id': 110006, 'nome': 'Vilhena', 'regiao-inte...</td>\n",
       "    </tr>\n",
       "    <tr>\n",
       "      <th>3</th>\n",
       "      <td>1100049</td>\n",
       "      <td>Cacoal</td>\n",
       "      <td>{'id': 11006, 'nome': 'Cacoal', 'mesorregiao':...</td>\n",
       "      <td>{'id': 110005, 'nome': 'Cacoal', 'regiao-inter...</td>\n",
       "    </tr>\n",
       "    <tr>\n",
       "      <th>4</th>\n",
       "      <td>1100056</td>\n",
       "      <td>Cerejeiras</td>\n",
       "      <td>{'id': 11008, 'nome': 'Colorado do Oeste', 'me...</td>\n",
       "      <td>{'id': 110006, 'nome': 'Vilhena', 'regiao-inte...</td>\n",
       "    </tr>\n",
       "  </tbody>\n",
       "</table>\n",
       "</div>"
      ],
      "text/plain": [
       "        id                   nome  \\\n",
       "0  1100015  Alta Floresta D'Oeste   \n",
       "1  1100023              Ariquemes   \n",
       "2  1100031                 Cabixi   \n",
       "3  1100049                 Cacoal   \n",
       "4  1100056             Cerejeiras   \n",
       "\n",
       "                                        microrregiao  \\\n",
       "0  {'id': 11006, 'nome': 'Cacoal', 'mesorregiao':...   \n",
       "1  {'id': 11003, 'nome': 'Ariquemes', 'mesorregia...   \n",
       "2  {'id': 11008, 'nome': 'Colorado do Oeste', 'me...   \n",
       "3  {'id': 11006, 'nome': 'Cacoal', 'mesorregiao':...   \n",
       "4  {'id': 11008, 'nome': 'Colorado do Oeste', 'me...   \n",
       "\n",
       "                                     regiao-imediata  \n",
       "0  {'id': 110005, 'nome': 'Cacoal', 'regiao-inter...  \n",
       "1  {'id': 110002, 'nome': 'Ariquemes', 'regiao-in...  \n",
       "2  {'id': 110006, 'nome': 'Vilhena', 'regiao-inte...  \n",
       "3  {'id': 110005, 'nome': 'Cacoal', 'regiao-inter...  \n",
       "4  {'id': 110006, 'nome': 'Vilhena', 'regiao-inte...  "
      ]
     },
     "execution_count": 11,
     "metadata": {},
     "output_type": "execute_result"
    }
   ],
   "source": [
    "df.head()"
   ]
  },
  {
   "cell_type": "code",
   "execution_count": null,
   "id": "753817dc-7396-42e9-8d05-cea4e439509f",
   "metadata": {},
   "outputs": [],
   "source": []
  }
 ],
 "metadata": {
  "kernelspec": {
   "display_name": "Python 3 (ipykernel)",
   "language": "python",
   "name": "python3"
  },
  "language_info": {
   "codemirror_mode": {
    "name": "ipython",
    "version": 3
   },
   "file_extension": ".py",
   "mimetype": "text/x-python",
   "name": "python",
   "nbconvert_exporter": "python",
   "pygments_lexer": "ipython3",
   "version": "3.10.5"
  }
 },
 "nbformat": 4,
 "nbformat_minor": 5
}
