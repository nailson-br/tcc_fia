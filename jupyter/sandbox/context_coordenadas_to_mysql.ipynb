{
 "cells": [
  {
   "cell_type": "code",
   "execution_count": 2,
   "id": "990ce64a-b524-41fb-bb9f-a97ea3a71006",
   "metadata": {},
   "outputs": [
    {
     "name": "stdout",
     "output_type": "stream",
     "text": [
      "Requirement already satisfied: pymysql in /opt/conda/lib/python3.10/site-packages (1.1.0)\n",
      "Collecting boto3\n",
      "  Downloading boto3-1.28.35-py3-none-any.whl (135 kB)\n",
      "\u001b[2K     \u001b[90m━━━━━━━━━━━━━━━━━━━━━━━━━━━━━━━━━━━━━━━\u001b[0m \u001b[32m135.8/135.8 kB\u001b[0m \u001b[31m2.0 MB/s\u001b[0m eta \u001b[36m0:00:00\u001b[0m00:01\u001b[0m\n",
      "\u001b[?25hCollecting jmespath<2.0.0,>=0.7.1\n",
      "  Downloading jmespath-1.0.1-py3-none-any.whl (20 kB)\n",
      "Collecting botocore<1.32.0,>=1.31.35\n",
      "  Downloading botocore-1.31.35-py3-none-any.whl (11.1 MB)\n",
      "\u001b[2K     \u001b[90m━━━━━━━━━━━━━━━━━━━━━━━━━━━━━━━━━━━━━━━━\u001b[0m \u001b[32m11.1/11.1 MB\u001b[0m \u001b[31m9.3 MB/s\u001b[0m eta \u001b[36m0:00:00\u001b[0m:00:01\u001b[0m00:01\u001b[0m\n",
      "\u001b[?25hCollecting s3transfer<0.7.0,>=0.6.0\n",
      "  Downloading s3transfer-0.6.2-py3-none-any.whl (79 kB)\n",
      "\u001b[2K     \u001b[90m━━━━━━━━━━━━━━━━━━━━━━━━━━━━━━━━━━━━━━━━\u001b[0m \u001b[32m79.8/79.8 kB\u001b[0m \u001b[31m3.2 MB/s\u001b[0m eta \u001b[36m0:00:00\u001b[0m\n",
      "\u001b[?25hRequirement already satisfied: urllib3<1.27,>=1.25.4 in /opt/conda/lib/python3.10/site-packages (from botocore<1.32.0,>=1.31.35->boto3) (1.26.9)\n",
      "Requirement already satisfied: python-dateutil<3.0.0,>=2.1 in /opt/conda/lib/python3.10/site-packages (from botocore<1.32.0,>=1.31.35->boto3) (2.8.2)\n",
      "Requirement already satisfied: six>=1.5 in /opt/conda/lib/python3.10/site-packages (from python-dateutil<3.0.0,>=2.1->botocore<1.32.0,>=1.31.35->boto3) (1.16.0)\n",
      "Installing collected packages: jmespath, botocore, s3transfer, boto3\n",
      "Successfully installed boto3-1.28.35 botocore-1.31.35 jmespath-1.0.1 s3transfer-0.6.2\n"
     ]
    }
   ],
   "source": [
    "!pip install pymysql boto3\n",
    "import boto3\n",
    "from configparser import ConfigParser\n",
    "import pandas as pd\n",
    "import pymysql\n",
    "import io"
   ]
  },
  {
   "cell_type": "code",
   "execution_count": 3,
   "id": "ceb166ef-3e66-42e1-9f16-2bb88b4c6f0c",
   "metadata": {},
   "outputs": [
    {
     "data": {
      "text/plain": [
       "['../config/config.ini']"
      ]
     },
     "execution_count": 3,
     "metadata": {},
     "output_type": "execute_result"
    }
   ],
   "source": [
    "# Carregar as configurações do arquivo ini\n",
    "config = ConfigParser()\n",
    "config.read(\"../config/config.ini\")"
   ]
  },
  {
   "cell_type": "code",
   "execution_count": 13,
   "id": "495110c0-c4f0-4cfa-ade4-c03e6f2bae2b",
   "metadata": {},
   "outputs": [],
   "source": [
    "# Configurações para conexão com o MinIO/S3\n",
    "endpoint = config.get(\"MinIO\", \"endpoint\")\n",
    "access_key = config.get(\"MinIO\", \"access_key\")\n",
    "secret_key = config.get(\"MinIO\", \"secret_key\")\n",
    "bucket_context = config.get(\"Bucket\", \"bucket_context\")\n",
    "\n",
    "# Configurações para conexão com MySQL\n",
    "# mysql_host = config.get('MYSQL', 'endpoint')\n",
    "mysql_host = 'mysql'\n",
    "mysql_user = config.get('MYSQL', 'user')\n",
    "mysql_pwd = config.get('MYSQL', 'user_pwd')\n",
    "mysql_db_name = config.get('MYSQL', 'db_name')\n",
    "\n",
    "# Nome do arquivo a ser lido\n",
    "source_filename = config.get(\"FILE\", \"coordenadas_municipios_csv\")"
   ]
  },
  {
   "cell_type": "code",
   "execution_count": 14,
   "id": "c154236b-5791-4f84-b595-59fc0458f0b0",
   "metadata": {},
   "outputs": [
    {
     "name": "stdout",
     "output_type": "stream",
     "text": [
      "endpoint: http://minio:9000\n",
      "access_key: aulafia\n",
      "secret_key: aulafia@123\n",
      "bucket_context: context\n",
      "mysql_host: mysql\n",
      "mysql_user: root\n",
      "mysql_pwd: root\n",
      "mysql_db_name: db_aulafia\n",
      "source_filename: Coordenadas.csv\n"
     ]
    }
   ],
   "source": [
    "print(\"endpoint:\", endpoint)\n",
    "print(\"access_key:\", access_key)\n",
    "print(\"secret_key:\", secret_key)\n",
    "print(\"bucket_context:\", bucket_context)\n",
    "print(\"mysql_host:\", mysql_host)\n",
    "print(\"mysql_user:\", mysql_user)\n",
    "print(\"mysql_pwd:\", mysql_pwd)\n",
    "print(\"mysql_db_name:\", mysql_db_name)\n",
    "print(\"source_filename:\", source_filename)"
   ]
  },
  {
   "cell_type": "code",
   "execution_count": 9,
   "id": "669cc9b6-cf2f-4308-9b41-859e065e00e2",
   "metadata": {},
   "outputs": [],
   "source": [
    "# Inicializar o cliente boto3 para S3\n",
    "minio_client = boto3.client(\"s3\", \n",
    "                            endpoint_url=endpoint,\n",
    "                            aws_access_key_id=access_key,\n",
    "                            aws_secret_access_key=secret_key\n",
    ")"
   ]
  },
  {
   "cell_type": "code",
   "execution_count": 10,
   "id": "3017a036-1660-4ccd-a963-ae0ab12b2da3",
   "metadata": {},
   "outputs": [],
   "source": [
    "# Baixar o arquivo CSV do bucket 'context'\n",
    "response = minio_client.get_object(Bucket=bucket_context,\n",
    "                         Key=source_filename)\n",
    "csv_content = response['Body'].read()"
   ]
  },
  {
   "cell_type": "code",
   "execution_count": 11,
   "id": "14ef4dd8-d58b-406d-9241-fc748ee30111",
   "metadata": {},
   "outputs": [],
   "source": [
    "# Carregar o conteúdo CSV em um DataFrame do pandas\n",
    "data_frame = pd.read_csv(io.BytesIO(csv_content))"
   ]
  },
  {
   "cell_type": "code",
   "execution_count": 18,
   "id": "90c74229-549d-4020-aff4-8df5cbf08a4a",
   "metadata": {},
   "outputs": [],
   "source": [
    "# Conectar ao MySQL\n",
    "mysql_connection = pymysql.connect(host=mysql_host,\n",
    "                                   user=mysql_user,\n",
    "                                   password=mysql_pwd,\n",
    "                                   db=mysql_db_name,\n",
    "                                   cursorclass=pymysql.cursors.DictCursor)"
   ]
  },
  {
   "cell_type": "code",
   "execution_count": 19,
   "id": "eeef8acd",
   "metadata": {},
   "outputs": [
    {
     "name": "stdout",
     "output_type": "stream",
     "text": [
      "Dados do arquivo Coordenadas.csv inseridos na tabela coordenadas com sucesso.\n"
     ]
    }
   ],
   "source": [
    "# Fazer a ingestão na tabela\n",
    "try:\n",
    "    # Apagar a tabela coordenadas (se existir)\n",
    "    with mysql_connection.cursor() as cursor:\n",
    "        cursor.execute(\"DROP TABLE IF EXISTS coordenadas\")\n",
    "\n",
    "    # Criar novamente a tabela coordenadas\n",
    "    with mysql_connection.cursor() as cursor:\n",
    "        cursor.execute(\"\"\"\n",
    "            CREATE TABLE coordenadas (\n",
    "                codigo_ibge INT NOT NULL,\n",
    "                nome VARCHAR(100) NOT NULL,\n",
    "                latitude FLOAT(8) NOT NULL,\n",
    "                longitude FLOAT(8) NOT NULL,\n",
    "                capital BOOLEAN NOT NULL,\n",
    "                codigo_uf INT NOT NULL,\n",
    "                siafi_id VARCHAR(4) NOT NULL UNIQUE,\n",
    "                ddd INT NOT NULL,\n",
    "                fuso_horario VARCHAR(32) NOT NULL,\n",
    "                PRIMARY KEY (codigo_ibge)\n",
    "            )\n",
    "        \"\"\")\n",
    "    \n",
    "    # Inserir os dados na tabela coordenadas\n",
    "    with mysql_connection.cursor() as cursor:\n",
    "        for index, row in data_frame.iterrows():\n",
    "            sql = \"INSERT INTO coordenadas VALUES (%s, %s, %s, %s, %s, %s, %s, %s, %s)\"\n",
    "            values = (row['codigo_ibge'], row['nome'], row['latitude'], row['longitude'],\n",
    "                      row['capital'], row['codigo_uf'], row['siafi_id'], row['ddd'], row['fuso_horario'])\n",
    "            cursor.execute(sql, values)\n",
    "        mysql_connection.commit()\n",
    "\n",
    "    print(f'Dados do arquivo {source_filename} inseridos na tabela coordenadas com sucesso.')\n",
    "\n",
    "finally:\n",
    "    mysql_connection.close()"
   ]
  },
  {
   "cell_type": "code",
   "execution_count": null,
   "id": "c450fc5d-884b-435b-9eeb-1e5db7a27f68",
   "metadata": {},
   "outputs": [],
   "source": []
  }
 ],
 "metadata": {
  "kernelspec": {
   "display_name": "Python 3 (ipykernel)",
   "language": "python",
   "name": "python3"
  },
  "language_info": {
   "codemirror_mode": {
    "name": "ipython",
    "version": 3
   },
   "file_extension": ".py",
   "mimetype": "text/x-python",
   "name": "python",
   "nbconvert_exporter": "python",
   "pygments_lexer": "ipython3",
   "version": "3.10.5"
  }
 },
 "nbformat": 4,
 "nbformat_minor": 5
}
