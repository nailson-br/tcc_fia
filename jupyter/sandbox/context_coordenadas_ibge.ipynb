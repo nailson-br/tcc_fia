{
 "cells": [
  {
   "cell_type": "code",
   "execution_count": 3,
   "id": "a55f1242-7d73-421c-8a61-7362ee9d56b0",
   "metadata": {},
   "outputs": [],
   "source": [
    "import boto3\n",
    "from configparser import ConfigParser\n",
    "import json\n",
    "import pandas as pd\n",
    "import io"
   ]
  },
  {
   "cell_type": "code",
   "execution_count": 4,
   "id": "5c3f2678-83d8-4df4-b08f-f87b4fc48307",
   "metadata": {},
   "outputs": [
    {
     "data": {
      "text/plain": [
       "['../config/config.ini']"
      ]
     },
     "execution_count": 4,
     "metadata": {},
     "output_type": "execute_result"
    }
   ],
   "source": [
    "# Carregar as configurações do arquivo ini\n",
    "config = ConfigParser()\n",
    "config.read(\"../config/config.ini\")"
   ]
  },
  {
   "cell_type": "code",
   "execution_count": 5,
   "id": "8f38b755-b4c8-4f0c-97be-d4b8055a9e14",
   "metadata": {},
   "outputs": [],
   "source": [
    "# Configurações para conexão com o MinIO/S3\n",
    "endpoint = config.get(\"MinIO\", \"endpoint\")\n",
    "access_key = config.get(\"MinIO\", \"access_key\")\n",
    "secret_key = config.get(\"MinIO\", \"secret_key\")\n",
    "bucket_raw = config.get(\"Bucket\", \"bucket_raw\")\n",
    "bucket_context = config.get(\"Bucket\", \"bucket_context\")\n",
    "prefix_coordenadas_json = config.get(\"Bucket\", \"prefix_coordenadas_json\") # Prefixo do arquivo CSV na raw\n",
    "prefix_coordenadas_csv = config.get(\"Bucket\", \"prefix_coordenadas_csv\") # Prefixo do arquivo somente com as informações de saúde que vai para a context\n",
    "\n",
    "# Nome do arquivo a ser lido\n",
    "source_filename = config.get(\"FILE\", \"coordenadas_municipios_json\")\n",
    "target_filename = config.get(\"FILE\", \"coordenadas_municipios_csv\")"
   ]
  },
  {
   "cell_type": "code",
   "execution_count": 6,
   "id": "754cf666-38b4-4ca5-9210-9fa775a0be0a",
   "metadata": {},
   "outputs": [
    {
     "name": "stdout",
     "output_type": "stream",
     "text": [
      "endpoint: http://minio:9000\n",
      "access_key: aulafia\n",
      "secret_key: aulafia@123\n",
      "bucket_raw: raw\n",
      "bucket_context: context\n",
      "prefix_coordenadas_json: coordenadas_json/\n",
      "prefix_coordenadas_csv: coordenadas_csv/\n",
      "source_filename: Coordenadas.json\n",
      "target_filename: Coordenadas.csv\n"
     ]
    }
   ],
   "source": [
    "print(\"endpoint:\", endpoint)\n",
    "print(\"access_key:\", access_key)\n",
    "print(\"secret_key:\", secret_key)\n",
    "print(\"bucket_raw:\", bucket_raw)\n",
    "print(\"bucket_context:\", bucket_context)\n",
    "print(\"prefix_coordenadas_json:\", prefix_coordenadas_json)\n",
    "print(\"prefix_coordenadas_csv:\", prefix_coordenadas_csv)\n",
    "print(\"source_filename:\", source_filename)\n",
    "print(\"target_filename:\", target_filename)"
   ]
  },
  {
   "cell_type": "code",
   "execution_count": 7,
   "id": "48f8253a-b790-453a-879e-7900d8e017e7",
   "metadata": {},
   "outputs": [],
   "source": [
    "# Inicializar o cliente boto3 para S3\n",
    "minio_client = boto3.client(\"s3\", \n",
    "                            endpoint_url=endpoint,\n",
    "                            aws_access_key_id=access_key,\n",
    "                            aws_secret_access_key=secret_key\n",
    ")"
   ]
  },
  {
   "cell_type": "code",
   "execution_count": 9,
   "id": "ade47a93-4530-40ce-867a-dc0249a5549a",
   "metadata": {},
   "outputs": [],
   "source": [
    "# Obter o objeto do arquivo do bucket de origem\n",
    "response = minio_client.get_object(Bucket=bucket_raw,\n",
    "                                   Key=prefix_coordenadas_json + \n",
    "                                   source_filename)\n",
    "json_content = response['Body'].read()"
   ]
  },
  {
   "cell_type": "code",
   "execution_count": 10,
   "id": "71677504-5cd7-4a89-9c4a-2035775fe9ca",
   "metadata": {},
   "outputs": [],
   "source": [
    "# Decodificar o conteúdo JSON\n",
    "decoded_json = json.loads(json_content)"
   ]
  },
  {
   "cell_type": "code",
   "execution_count": 11,
   "id": "cc71bbbb-4ad4-48eb-9ecf-b89dca2bbaf0",
   "metadata": {},
   "outputs": [],
   "source": [
    "# Converter o JSON para um DataFrame do pandas\n",
    "data_frame = pd.json_normalize(decoded_json)"
   ]
  },
  {
   "cell_type": "code",
   "execution_count": 12,
   "id": "532f9f48-5bcf-42bf-acf9-b1c723a1e759",
   "metadata": {},
   "outputs": [],
   "source": [
    "# Criar um fluxo de gravação em buffer para o arquivo CSV\n",
    "output_buffer = io.StringIO()"
   ]
  },
  {
   "cell_type": "code",
   "execution_count": 13,
   "id": "f9326ec5-fe6c-42c5-822b-c846f99b3a1c",
   "metadata": {},
   "outputs": [],
   "source": [
    "# Salvar o DataFrame como um arquivo CSV no buffer\n",
    "data_frame.to_csv(output_buffer, index=False, encoding='utf-8')"
   ]
  },
  {
   "cell_type": "code",
   "execution_count": 14,
   "id": "8b937310-6313-4d78-aae8-5d2e29df48a7",
   "metadata": {},
   "outputs": [],
   "source": [
    "# Obter o conteúdo do buffer como bytes codificados em UTF-8\n",
    "encoded_csv_content = output_buffer.getvalue().encode('utf-8')"
   ]
  },
  {
   "cell_type": "code",
   "execution_count": 15,
   "id": "a5cc7ce3-9223-4435-a0cc-5a32d2152f88",
   "metadata": {},
   "outputs": [
    {
     "data": {
      "text/plain": [
       "{'ResponseMetadata': {'RequestId': '177F60666F2E236A',\n",
       "  'HostId': 'dd9025bab4ad464b049177c95eb6ebf374d3b3fd1af9251148b658df7ac2e3e8',\n",
       "  'HTTPStatusCode': 200,\n",
       "  'HTTPHeaders': {'accept-ranges': 'bytes',\n",
       "   'content-length': '0',\n",
       "   'etag': '\"92055ff5e21661003b819ec7fac8a438\"',\n",
       "   'server': 'MinIO',\n",
       "   'strict-transport-security': 'max-age=31536000; includeSubDomains',\n",
       "   'vary': 'Origin, Accept-Encoding',\n",
       "   'x-amz-id-2': 'dd9025bab4ad464b049177c95eb6ebf374d3b3fd1af9251148b658df7ac2e3e8',\n",
       "   'x-amz-request-id': '177F60666F2E236A',\n",
       "   'x-content-type-options': 'nosniff',\n",
       "   'x-xss-protection': '1; mode=block',\n",
       "   'date': 'Sun, 27 Aug 2023 23:12:58 GMT'},\n",
       "  'RetryAttempts': 0},\n",
       " 'ETag': '\"92055ff5e21661003b819ec7fac8a438\"'}"
      ]
     },
     "execution_count": 15,
     "metadata": {},
     "output_type": "execute_result"
    }
   ],
   "source": [
    "# Enviar o arquivo CSV codificado para o bucket de destino\n",
    "minio_client.put_object(Bucket=bucket_context,\n",
    "                        Key=target_filename,\n",
    "                        Body=encoded_csv_content)"
   ]
  },
  {
   "cell_type": "code",
   "execution_count": null,
   "id": "567b30cb-adc5-4568-89f5-5e9b1e95c3f2",
   "metadata": {},
   "outputs": [],
   "source": []
  }
 ],
 "metadata": {
  "kernelspec": {
   "display_name": "Python 3 (ipykernel)",
   "language": "python",
   "name": "python3"
  },
  "language_info": {
   "codemirror_mode": {
    "name": "ipython",
    "version": 3
   },
   "file_extension": ".py",
   "mimetype": "text/x-python",
   "name": "python",
   "nbconvert_exporter": "python",
   "pygments_lexer": "ipython3",
   "version": "3.10.5"
  }
 },
 "nbformat": 4,
 "nbformat_minor": 5
}
