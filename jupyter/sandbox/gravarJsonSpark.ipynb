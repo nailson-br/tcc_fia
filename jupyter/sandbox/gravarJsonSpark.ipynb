{
 "cells": [
  {
   "cell_type": "code",
   "execution_count": 1,
   "metadata": {},
   "outputs": [],
   "source": [
    "#!pip3 install minio\n",
    "\n",
    "from pyspark.sql import SparkSession\n",
    "import requests\n",
    "import json\n",
    "import configparser"
   ]
  },
  {
   "cell_type": "code",
   "execution_count": 2,
   "metadata": {},
   "outputs": [
    {
     "data": {
      "text/plain": [
       "['./airflow/config/config.ini']"
      ]
     },
     "execution_count": 2,
     "metadata": {},
     "output_type": "execute_result"
    }
   ],
   "source": [
    "config = configparser.ConfigParser()\n",
    "config.read('./airflow/config/config.ini')"
   ]
  },
  {
   "cell_type": "code",
   "execution_count": 3,
   "metadata": {},
   "outputs": [],
   "source": [
    "# URL para download do arquivo\n",
    "municipios_ibge_url = config['URL']['municipios_ibge']\n",
    "\n",
    "# Defina as informações de conexão com o MinIO\n",
    "minio_access_key = config['MinIO']['access_key']\n",
    "minio_secret_key = config['MinIO']['secret_key']\n",
    "minio_endpoint = config['MinIO']['endpoint']\n",
    "\n",
    "# Bucket onde será armazenado o arquivo zip baixado da internet\n",
    "minio_bucket = config['Bucket']['bucket_raw']\n",
    "prefix = config['Bucket']['prefix_municipios_ibge_json']\n",
    "\n",
    "# Nome do arquivo que será gravado no MinIO\n",
    "municipios_ibge = config['FILE']['municipios_ibge_json']"
   ]
  },
  {
   "cell_type": "code",
   "execution_count": null,
   "metadata": {},
   "outputs": [],
   "source": [
    "# Inicializar a sessão Spark\n",
    "spark = (SparkSession.builder\n",
    "         .config(\"spark.hadoop.fs.s3a.endpoint\", minio_endpoint)\n",
    "         .config(\"spark.hadoop.fs.s3a.access.key\", minio_access_key)\n",
    "         .config(\"spark.hadoop.fs.s3a.secret.key\", minio_secret_key)\n",
    "         .config(\"spark.hadoop.fs.s3a.path.style.access\", \"true\")\n",
    "         .config(\"spark.hadoop.fs.s3a.impl\", \"org.apache.hadoop.fs.s3a.S3AFileSystem\")\n",
    "         .config(\"spark.hadoop.fs.s3a.aws.credentials.provider\", \"org.apache.hadoop.fs.s3a.SimpleAWSCredentialsProvider\")\n",
    "         .getOrCreate()\n",
    "         )"
   ]
  },
  {
   "cell_type": "code",
   "execution_count": null,
   "metadata": {},
   "outputs": [],
   "source": [
    "# Faz a requisição para obter os dados JSON\n",
    "response = requests.get(municipios_ibge_url)\n",
    "json_data = response.content.decode('utf-8')  # Decodifica usando UTF-8"
   ]
  },
  {
   "cell_type": "code",
   "execution_count": null,
   "metadata": {},
   "outputs": [],
   "source": [
    "# Transforma os dados JSON em uma string\n",
    "json_string = json.dumps(json_data)"
   ]
  },
  {
   "cell_type": "code",
   "execution_count": null,
   "metadata": {},
   "outputs": [],
   "source": [
    "len(json_string)"
   ]
  },
  {
   "cell_type": "code",
   "execution_count": null,
   "metadata": {},
   "outputs": [],
   "source": [
    "# Define o caminho completo do diretório a ser excluído\n",
    "# directory_to_delete = \"s3a://\" + minio_bucket + \"/\" + prefix + municipios_ibge\n",
    "directory_to_delete = minio_bucket + \"/\" + prefix + municipios_ibge\n",
    "print(directory_to_delete)"
   ]
  },
  {
   "cell_type": "code",
   "execution_count": null,
   "metadata": {},
   "outputs": [],
   "source": [
    "# Grava a string JSON no MinIO\n",
    "rdd = spark.sparkContext.parallelize([json_string])\n",
    "rdd.saveAsTextFile(directory_to_delete)"
   ]
  },
  {
   "cell_type": "code",
   "execution_count": null,
   "metadata": {},
   "outputs": [],
   "source": [
    "rdd.values()"
   ]
  },
  {
   "cell_type": "code",
   "execution_count": null,
   "metadata": {},
   "outputs": [],
   "source": []
  }
 ],
 "metadata": {
  "kernelspec": {
   "display_name": "Python 3 (ipykernel)",
   "language": "python",
   "name": "python3"
  },
  "language_info": {
   "codemirror_mode": {
    "name": "ipython",
    "version": 3
   },
   "file_extension": ".py",
   "mimetype": "text/x-python",
   "name": "python",
   "nbconvert_exporter": "python",
   "pygments_lexer": "ipython3",
   "version": "3.10.5"
  }
 },
 "nbformat": 4,
 "nbformat_minor": 4
}
