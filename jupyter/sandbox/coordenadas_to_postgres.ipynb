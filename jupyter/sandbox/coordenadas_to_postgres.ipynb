{
 "cells": [
  {
   "cell_type": "code",
   "execution_count": 3,
   "id": "cca1b78c-36ca-4a22-a7d3-354174e20658",
   "metadata": {},
   "outputs": [
    {
     "name": "stdout",
     "output_type": "stream",
     "text": [
      "Collecting boto3\n",
      "  Downloading boto3-1.28.35-py3-none-any.whl (135 kB)\n",
      "\u001b[2K     \u001b[90m━━━━━━━━━━━━━━━━━━━━━━━━━━━━━━━━━━━━━━━\u001b[0m \u001b[32m135.8/135.8 kB\u001b[0m \u001b[31m2.6 MB/s\u001b[0m eta \u001b[36m0:00:00\u001b[0m00:01\u001b[0m\n",
      "\u001b[?25hCollecting s3transfer<0.7.0,>=0.6.0\n",
      "  Downloading s3transfer-0.6.2-py3-none-any.whl (79 kB)\n",
      "\u001b[2K     \u001b[90m━━━━━━━━━━━━━━━━━━━━━━━━━━━━━━━━━━━━━━━━\u001b[0m \u001b[32m79.8/79.8 kB\u001b[0m \u001b[31m2.8 MB/s\u001b[0m eta \u001b[36m0:00:00\u001b[0m\n",
      "\u001b[?25hCollecting jmespath<2.0.0,>=0.7.1\n",
      "  Downloading jmespath-1.0.1-py3-none-any.whl (20 kB)\n",
      "Collecting botocore<1.32.0,>=1.31.35\n",
      "  Downloading botocore-1.31.35-py3-none-any.whl (11.1 MB)\n",
      "\u001b[2K     \u001b[90m━━━━━━━━━━━━━━━━━━━━━━━━━━━━━━━━━━━━━━━━\u001b[0m \u001b[32m11.1/11.1 MB\u001b[0m \u001b[31m11.5 MB/s\u001b[0m eta \u001b[36m0:00:00\u001b[0m00:01\u001b[0m0:01\u001b[0m\n",
      "\u001b[?25hRequirement already satisfied: python-dateutil<3.0.0,>=2.1 in /opt/conda/lib/python3.10/site-packages (from botocore<1.32.0,>=1.31.35->boto3) (2.8.2)\n",
      "Requirement already satisfied: urllib3<1.27,>=1.25.4 in /opt/conda/lib/python3.10/site-packages (from botocore<1.32.0,>=1.31.35->boto3) (1.26.9)\n",
      "Requirement already satisfied: six>=1.5 in /opt/conda/lib/python3.10/site-packages (from python-dateutil<3.0.0,>=2.1->botocore<1.32.0,>=1.31.35->boto3) (1.16.0)\n",
      "Installing collected packages: jmespath, botocore, s3transfer, boto3\n",
      "Successfully installed boto3-1.28.35 botocore-1.31.35 jmespath-1.0.1 s3transfer-0.6.2\n"
     ]
    }
   ],
   "source": [
    "!pip install boto3"
   ]
  },
  {
   "cell_type": "code",
   "execution_count": 5,
   "id": "a080dcc5-e205-41f1-b8c2-b4185cc906db",
   "metadata": {},
   "outputs": [
    {
     "name": "stdout",
     "output_type": "stream",
     "text": [
      "Collecting psycopg2-binary\n",
      "  Downloading psycopg2_binary-2.9.7-cp310-cp310-manylinux_2_17_x86_64.manylinux2014_x86_64.whl (3.0 MB)\n",
      "\u001b[2K     \u001b[90m━━━━━━━━━━━━━━━━━━━━━━━━━━━━━━━━━━━━━━━━\u001b[0m \u001b[32m3.0/3.0 MB\u001b[0m \u001b[31m9.3 MB/s\u001b[0m eta \u001b[36m0:00:00\u001b[0m:00:01\u001b[0m00:01\u001b[0m\n",
      "\u001b[?25hInstalling collected packages: psycopg2-binary\n",
      "Successfully installed psycopg2-binary-2.9.7\n"
     ]
    }
   ],
   "source": [
    "!pip install psycopg2-binary"
   ]
  },
  {
   "cell_type": "code",
   "execution_count": 6,
   "id": "990ce64a-b524-41fb-bb9f-a97ea3a71006",
   "metadata": {},
   "outputs": [],
   "source": [
    "import boto3\n",
    "from configparser import ConfigParser\n",
    "import pandas as pd\n",
    "import psycopg2\n",
    "from io import BytesIO"
   ]
  },
  {
   "cell_type": "code",
   "execution_count": 27,
   "id": "ceb166ef-3e66-42e1-9f16-2bb88b4c6f0c",
   "metadata": {},
   "outputs": [
    {
     "data": {
      "text/plain": [
       "['../config/config.ini']"
      ]
     },
     "execution_count": 27,
     "metadata": {},
     "output_type": "execute_result"
    }
   ],
   "source": [
    "# Carregar as configurações do arquivo ini\n",
    "config = ConfigParser()\n",
    "config.read(\"../config/config.ini\")"
   ]
  },
  {
   "cell_type": "code",
   "execution_count": 28,
   "id": "495110c0-c4f0-4cfa-ade4-c03e6f2bae2b",
   "metadata": {},
   "outputs": [],
   "source": [
    "# Configurações para conexão com o MinIO/S3\n",
    "endpoint = config.get(\"MinIO\", \"endpoint\")\n",
    "access_key = config.get(\"MinIO\", \"access_key\")\n",
    "secret_key = config.get(\"MinIO\", \"secret_key\")\n",
    "bucket_context = config.get(\"Bucket\", \"bucket_context\")\n",
    "\n",
    "# Nome do arquivo a ser lido\n",
    "source_filename = config.get(\"FILE\", \"coordenadas_municipios_csv\")"
   ]
  },
  {
   "cell_type": "code",
   "execution_count": 30,
   "id": "c154236b-5791-4f84-b595-59fc0458f0b0",
   "metadata": {},
   "outputs": [
    {
     "name": "stdout",
     "output_type": "stream",
     "text": [
      "endpoint:  http://minio:9000\n",
      "access_key:  aulafia\n",
      "secret_key:  aulafia@123\n",
      "bucket_context:  context\n",
      "source_filename:  Coordenadas.csv\n"
     ]
    }
   ],
   "source": [
    "print(\"endpoint: \", endpoint)\n",
    "print(\"access_key: \", access_key)\n",
    "print(\"secret_key: \", secret_key)\n",
    "print(\"bucket_context: \", bucket_context)\n",
    "print(\"source_filename: \", source_filename)"
   ]
  },
  {
   "cell_type": "code",
   "execution_count": 31,
   "id": "00668808",
   "metadata": {},
   "outputs": [],
   "source": [
    "# Configurar as credenciais do PostgreSQL\n",
    "postgres_host = config.get(\"POSTGRESQL\", \"host_name\")\n",
    "postgres_port = config.get(\"POSTGRESQL\", \"port\")  # Porta padrão do PostgreSQL\n",
    "postgres_user = config.get(\"POSTGRESQL\", \"user\")\n",
    "postgres_password = config.get(\"POSTGRESQL\", \"user_pwd\")\n",
    "postgres_db = config.get(\"POSTGRESQL\", \"db_name\")"
   ]
  },
  {
   "cell_type": "code",
   "execution_count": 32,
   "id": "362d9d89-46fb-4e7e-b7fe-02b5de0e164a",
   "metadata": {},
   "outputs": [
    {
     "name": "stdout",
     "output_type": "stream",
     "text": [
      "postgres_host: postgres\n",
      "postgres_port: 5432\n",
      "postgres_user: aulafia\n",
      "postgres_password: aulafia@123\n",
      "postgres_db: db_aulafia\n"
     ]
    }
   ],
   "source": [
    "print('postgres_host:', postgres_host)\n",
    "print('postgres_port:', postgres_port)\n",
    "print('postgres_user:', postgres_user)\n",
    "print('postgres_password:', postgres_password)\n",
    "print('postgres_db:', postgres_db)"
   ]
  },
  {
   "cell_type": "code",
   "execution_count": 33,
   "id": "669cc9b6-cf2f-4308-9b41-859e065e00e2",
   "metadata": {},
   "outputs": [],
   "source": [
    "# Inicializar o cliente boto3 para S3\n",
    "minio_client = boto3.client(\"s3\", \n",
    "                            endpoint_url=endpoint,\n",
    "                            aws_access_key_id=access_key,\n",
    "                            aws_secret_access_key=secret_key\n",
    ")"
   ]
  },
  {
   "cell_type": "code",
   "execution_count": 34,
   "id": "3017a036-1660-4ccd-a963-ae0ab12b2da3",
   "metadata": {},
   "outputs": [],
   "source": [
    "# Obter o conteúdo do arquivo CSV do MinIO\n",
    "response = minio_client.get_object(Bucket=bucket_context, Key=source_filename)\n",
    "csv_content = response['Body'].read()"
   ]
  },
  {
   "cell_type": "code",
   "execution_count": 35,
   "id": "14ef4dd8-d58b-406d-9241-fc748ee30111",
   "metadata": {},
   "outputs": [],
   "source": [
    "# Ler o conteúdo do CSV em um DataFrame\n",
    "data_frame = pd.read_csv(BytesIO(csv_content))"
   ]
  },
  {
   "cell_type": "code",
   "execution_count": 36,
   "id": "c8fe5925-c568-4436-a799-274d32e8d604",
   "metadata": {},
   "outputs": [
    {
     "data": {
      "text/html": [
       "<div>\n",
       "<style scoped>\n",
       "    .dataframe tbody tr th:only-of-type {\n",
       "        vertical-align: middle;\n",
       "    }\n",
       "\n",
       "    .dataframe tbody tr th {\n",
       "        vertical-align: top;\n",
       "    }\n",
       "\n",
       "    .dataframe thead th {\n",
       "        text-align: right;\n",
       "    }\n",
       "</style>\n",
       "<table border=\"1\" class=\"dataframe\">\n",
       "  <thead>\n",
       "    <tr style=\"text-align: right;\">\n",
       "      <th></th>\n",
       "      <th>codigo_ibge</th>\n",
       "      <th>nome</th>\n",
       "      <th>latitude</th>\n",
       "      <th>longitude</th>\n",
       "      <th>capital</th>\n",
       "      <th>codigo_uf</th>\n",
       "      <th>siafi_id</th>\n",
       "      <th>ddd</th>\n",
       "      <th>fuso_horario</th>\n",
       "    </tr>\n",
       "  </thead>\n",
       "  <tbody>\n",
       "    <tr>\n",
       "      <th>0</th>\n",
       "      <td>5200050</td>\n",
       "      <td>Abadia de Goiás</td>\n",
       "      <td>-16.75730</td>\n",
       "      <td>-49.4412</td>\n",
       "      <td>0</td>\n",
       "      <td>52</td>\n",
       "      <td>1050</td>\n",
       "      <td>62</td>\n",
       "      <td>America/Sao_Paulo</td>\n",
       "    </tr>\n",
       "    <tr>\n",
       "      <th>1</th>\n",
       "      <td>3100104</td>\n",
       "      <td>Abadia dos Dourados</td>\n",
       "      <td>-18.48310</td>\n",
       "      <td>-47.3916</td>\n",
       "      <td>0</td>\n",
       "      <td>31</td>\n",
       "      <td>4001</td>\n",
       "      <td>34</td>\n",
       "      <td>America/Sao_Paulo</td>\n",
       "    </tr>\n",
       "    <tr>\n",
       "      <th>2</th>\n",
       "      <td>5200100</td>\n",
       "      <td>Abadiânia</td>\n",
       "      <td>-16.19700</td>\n",
       "      <td>-48.7057</td>\n",
       "      <td>0</td>\n",
       "      <td>52</td>\n",
       "      <td>9201</td>\n",
       "      <td>62</td>\n",
       "      <td>America/Sao_Paulo</td>\n",
       "    </tr>\n",
       "    <tr>\n",
       "      <th>3</th>\n",
       "      <td>3100203</td>\n",
       "      <td>Abaeté</td>\n",
       "      <td>-19.15510</td>\n",
       "      <td>-45.4444</td>\n",
       "      <td>0</td>\n",
       "      <td>31</td>\n",
       "      <td>4003</td>\n",
       "      <td>37</td>\n",
       "      <td>America/Sao_Paulo</td>\n",
       "    </tr>\n",
       "    <tr>\n",
       "      <th>4</th>\n",
       "      <td>1500107</td>\n",
       "      <td>Abaetetuba</td>\n",
       "      <td>-1.72183</td>\n",
       "      <td>-48.8788</td>\n",
       "      <td>0</td>\n",
       "      <td>15</td>\n",
       "      <td>401</td>\n",
       "      <td>91</td>\n",
       "      <td>America/Sao_Paulo</td>\n",
       "    </tr>\n",
       "  </tbody>\n",
       "</table>\n",
       "</div>"
      ],
      "text/plain": [
       "   codigo_ibge                 nome  latitude  longitude  capital  codigo_uf  \\\n",
       "0      5200050      Abadia de Goiás -16.75730   -49.4412        0         52   \n",
       "1      3100104  Abadia dos Dourados -18.48310   -47.3916        0         31   \n",
       "2      5200100            Abadiânia -16.19700   -48.7057        0         52   \n",
       "3      3100203               Abaeté -19.15510   -45.4444        0         31   \n",
       "4      1500107           Abaetetuba  -1.72183   -48.8788        0         15   \n",
       "\n",
       "   siafi_id  ddd       fuso_horario  \n",
       "0      1050   62  America/Sao_Paulo  \n",
       "1      4001   34  America/Sao_Paulo  \n",
       "2      9201   62  America/Sao_Paulo  \n",
       "3      4003   37  America/Sao_Paulo  \n",
       "4       401   91  America/Sao_Paulo  "
      ]
     },
     "execution_count": 36,
     "metadata": {},
     "output_type": "execute_result"
    }
   ],
   "source": [
    "data_frame.head()"
   ]
  },
  {
   "cell_type": "code",
   "execution_count": 38,
   "id": "7b34aa49-6092-4f9c-b3a8-f257eb1a2b7f",
   "metadata": {},
   "outputs": [
    {
     "name": "stdout",
     "output_type": "stream",
     "text": [
      "Dados do arquivo Coordenadas.csv inseridos na tabela coordenadas com sucesso.\n"
     ]
    }
   ],
   "source": [
    "# Conectar ao PostgreSQL\n",
    "postgres_connection = psycopg2.connect(\n",
    "    host=postgres_host,\n",
    "    port=postgres_port,\n",
    "    user=postgres_user,\n",
    "    password=postgres_password,\n",
    "    dbname=postgres_db\n",
    ")\n",
    "\n",
    "try:\n",
    "    # Apagar a tabela coordenadas (se existir)\n",
    "    with postgres_connection.cursor() as cursor:\n",
    "        cursor.execute(\"DROP TABLE IF EXISTS coordenadas\")\n",
    "\n",
    "    # Criar novamente a tabela coordenadas\n",
    "    with postgres_connection.cursor() as cursor:\n",
    "        cursor.execute(\"\"\"\n",
    "            CREATE TABLE coordenadas (\n",
    "                codigo_ibge VARCHAR(100),\n",
    "                nome VARCHAR(100),\n",
    "                latitude VARCHAR(20),\n",
    "                longitude VARCHAR(20),\n",
    "                capital VARCHAR(4),\n",
    "                codigo_uf VARCHAR(4),\n",
    "                siafi_id VARCHAR(4),\n",
    "                ddd VARCHAR(4),\n",
    "                fuso_horario VARCHAR(32)\n",
    "            )\n",
    "        \"\"\")\n",
    "    postgres_connection.commit()\n",
    "\n",
    "    # Inserir os dados na tabela coordenadas\n",
    "    with postgres_connection.cursor() as cursor:\n",
    "        for index, row in data_frame.iterrows():\n",
    "            sql = \"INSERT INTO coordenadas VALUES (%s, %s, %s, %s, %s, %s, %s, %s, %s)\"\n",
    "            values = (row['codigo_ibge'], row['nome'], row['latitude'], row['longitude'],\n",
    "                      row['capital'], row['codigo_uf'], row['siafi_id'], row['ddd'], row['fuso_horario'])\n",
    "            cursor.execute(sql, values)\n",
    "        postgres_connection.commit()\n",
    "\n",
    "    print(f'Dados do arquivo {source_filename} inseridos na tabela coordenadas com sucesso.')\n",
    "\n",
    "finally:\n",
    "    postgres_connection.close()"
   ]
  },
  {
   "cell_type": "code",
   "execution_count": 39,
   "id": "ea2309cc",
   "metadata": {},
   "outputs": [],
   "source": [
    "minio_client.close()"
   ]
  },
  {
   "cell_type": "code",
   "execution_count": null,
   "id": "5ff068af-0861-40a9-ac68-b43c81a09161",
   "metadata": {},
   "outputs": [],
   "source": []
  }
 ],
 "metadata": {
  "kernelspec": {
   "display_name": "Python 3 (ipykernel)",
   "language": "python",
   "name": "python3"
  },
  "language_info": {
   "codemirror_mode": {
    "name": "ipython",
    "version": 3
   },
   "file_extension": ".py",
   "mimetype": "text/x-python",
   "name": "python",
   "nbconvert_exporter": "python",
   "pygments_lexer": "ipython3",
   "version": "3.10.5"
  }
 },
 "nbformat": 4,
 "nbformat_minor": 5
}
