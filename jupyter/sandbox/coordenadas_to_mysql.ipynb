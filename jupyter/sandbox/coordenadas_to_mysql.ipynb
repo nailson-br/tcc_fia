{
 "cells": [
  {
   "cell_type": "code",
   "execution_count": 4,
   "id": "990ce64a-b524-41fb-bb9f-a97ea3a71006",
   "metadata": {},
   "outputs": [],
   "source": [
    "#!pip install pymysql\n",
    "import boto3\n",
    "from configparser import ConfigParser\n",
    "import pandas as pd\n",
    "import pymysql\n",
    "from io import BytesIO"
   ]
  },
  {
   "cell_type": "code",
   "execution_count": 5,
   "id": "ceb166ef-3e66-42e1-9f16-2bb88b4c6f0c",
   "metadata": {},
   "outputs": [
    {
     "data": {
      "text/plain": [
       "['../config/config.ini']"
      ]
     },
     "execution_count": 5,
     "metadata": {},
     "output_type": "execute_result"
    }
   ],
   "source": [
    "# Carregar as configurações do arquivo ini\n",
    "config = ConfigParser()\n",
    "config.read(\"../config/config.ini\")"
   ]
  },
  {
   "cell_type": "code",
   "execution_count": 6,
   "id": "495110c0-c4f0-4cfa-ade4-c03e6f2bae2b",
   "metadata": {},
   "outputs": [],
   "source": [
    "# Configurações para conexão com o MinIO/S3\n",
    "endpoint = config.get(\"MinIO\", \"endpoint\")\n",
    "access_key = config.get(\"MinIO\", \"access_key\")\n",
    "secret_key = config.get(\"MinIO\", \"secret_key\")\n",
    "bucket_trust = config.get(\"Bucket\", \"bucket_trust\")\n",
    "\n",
    "# Nome do arquivo a ser lido\n",
    "source_filename = config.get(\"FILE\", \"censo_saude_csv\")"
   ]
  },
  {
   "cell_type": "code",
   "execution_count": 7,
   "id": "c154236b-5791-4f84-b595-59fc0458f0b0",
   "metadata": {},
   "outputs": [
    {
     "name": "stdout",
     "output_type": "stream",
     "text": [
      "endpoint:  http://minio:9000\n",
      "access_key:  aulafia\n",
      "secret_key:  aulafia@123\n",
      "bucket_trust:  trust\n",
      "source_filename:  CensoSaude.csv\n"
     ]
    }
   ],
   "source": [
    "print(\"endpoint: \", endpoint)\n",
    "print(\"access_key: \", access_key)\n",
    "print(\"secret_key: \", secret_key)\n",
    "print(\"bucket_trust: \", bucket_trust)\n",
    "print(\"source_filename: \", source_filename)"
   ]
  },
  {
   "cell_type": "code",
   "execution_count": 8,
   "id": "669cc9b6-cf2f-4308-9b41-859e065e00e2",
   "metadata": {},
   "outputs": [],
   "source": [
    "# Inicializar o cliente boto3 para S3\n",
    "minio_client = boto3.client(\"s3\", \n",
    "                            endpoint_url=endpoint,\n",
    "                            aws_access_key_id=access_key,\n",
    "                            aws_secret_access_key=secret_key\n",
    ")"
   ]
  },
  {
   "cell_type": "code",
   "execution_count": 9,
   "id": "3017a036-1660-4ccd-a963-ae0ab12b2da3",
   "metadata": {},
   "outputs": [],
   "source": [
    "# Obter o conteúdo do arquivo CSV do MinIO\n",
    "response = minio_client.get_object(Bucket=bucket_trust, Key=source_filename)\n",
    "csv_content = response['Body'].read()"
   ]
  },
  {
   "cell_type": "code",
   "execution_count": 10,
   "id": "14ef4dd8-d58b-406d-9241-fc748ee30111",
   "metadata": {},
   "outputs": [],
   "source": [
    "# Ler o conteúdo do CSV em um DataFrame\n",
    "data_frame = pd.read_csv(BytesIO(csv_content))"
   ]
  },
  {
   "cell_type": "code",
   "execution_count": null,
   "id": "7b34aa49-6092-4f9c-b3a8-f257eb1a2b7f",
   "metadata": {},
   "outputs": [],
   "source": [
    "# Conectar ao MySQL\n",
    "mysql_connection = pymysql.connect(host=mysql_host,\n",
    "                                   user=mysql_user,\n",
    "                                   password=mysql_password,\n",
    "                                   db=mysql_db,\n",
    "                                   cursorclass=pymysql.cursors.DictCursor)\n",
    "\n",
    "try:\n",
    "    # Apagar a tabela coordenadas (se existir)\n",
    "    with mysql_connection.cursor() as cursor:\n",
    "        cursor.execute(\"DROP TABLE IF EXISTS coordenadas\")\n",
    "\n",
    "    # Criar novamente a tabela coordenadas\n",
    "    with mysql_connection.cursor() as cursor:\n",
    "        cursor.execute(\"\"\"\n",
    "            CREATE TABLE coordenadas (\n",
    "                codigo_ibge INT NOT NULL,\n",
    "                nome VARCHAR(100) NOT NULL,\n",
    "                latitude FLOAT(8) NOT NULL,\n",
    "                longitude FLOAT(8) NOT NULL,\n",
    "                capital BOOLEAN NOT NULL,\n",
    "                codigo_uf INT NOT NULL,\n",
    "                siafi_id VARCHAR(4) NOT NULL UNIQUE,\n",
    "                ddd INT NOT NULL,\n",
    "                fuso_horario VARCHAR(32) NOT NULL,\n",
    "                PRIMARY KEY (codigo_ibge)\n",
    "            )\n",
    "        \"\"\")\n",
    "    \n",
    "    # Inserir os dados na tabela coordenadas\n",
    "    with mysql_connection.cursor() as cursor:\n",
    "        for index, row in data_frame.iterrows():\n",
    "            sql = \"INSERT INTO coordenadas VALUES (%s, %s, %s, %s, %s, %s, %s, %s, %s)\"\n",
    "            values = (row['codigo_ibge'], row['nome'], row['latitude'], row['longitude'],\n",
    "                      row['capital'], row['codigo_uf'], row['siafi_id'], row['ddd'], row['fuso_horario'])\n",
    "            cursor.execute(sql, values)\n",
    "        mysql_connection.commit()\n",
    "\n",
    "    print(f'Dados do arquivo {csv_filename} inseridos na tabela coordenadas com sucesso.')\n",
    "\n",
    "finally:\n",
    "    mysql_connection.close()"
   ]
  },
  {
   "cell_type": "code",
   "execution_count": null,
   "id": "68c66ab2-61f7-44f7-9106-3a1c9c6eb8f1",
   "metadata": {},
   "outputs": [],
   "source": [
    "# Criar um fluxo de gravação em buffer para o novo arquivo CSV\n",
    "output_buffer = io.StringIO()"
   ]
  },
  {
   "cell_type": "code",
   "execution_count": null,
   "id": "2d37217e-3d1f-466f-91b2-d8f2606fde7c",
   "metadata": {},
   "outputs": [],
   "source": [
    "# Salvar o DataFrame reduzido como um arquivo CSV no buffer\n",
    "selected_columns.to_csv(output_buffer, index=False, encoding='utf-8')"
   ]
  },
  {
   "cell_type": "code",
   "execution_count": null,
   "id": "6287b9f7-25d0-4fdc-9411-2844f012b096",
   "metadata": {},
   "outputs": [],
   "source": [
    "# Obter o conteúdo do buffer como bytes codificados em UTF-8\n",
    "encoded_csv_content = output_buffer.getvalue().encode('utf-8')"
   ]
  },
  {
   "cell_type": "code",
   "execution_count": null,
   "id": "09085832-52ff-4e50-af7a-a12e4ce4609d",
   "metadata": {},
   "outputs": [],
   "source": [
    "# Enviar o novo arquivo CSV codificado para o bucket de destino\n",
    "minio_client.put_object(Bucket=bucket_trust, Key=target_filename, Body=encoded_csv_content)"
   ]
  },
  {
   "cell_type": "code",
   "execution_count": null,
   "id": "90c74229-549d-4020-aff4-8df5cbf08a4a",
   "metadata": {},
   "outputs": [],
   "source": []
  }
 ],
 "metadata": {
  "kernelspec": {
   "display_name": "Python 3 (ipykernel)",
   "language": "python",
   "name": "python3"
  },
  "language_info": {
   "codemirror_mode": {
    "name": "ipython",
    "version": 3
   },
   "file_extension": ".py",
   "mimetype": "text/x-python",
   "name": "python",
   "nbconvert_exporter": "python",
   "pygments_lexer": "ipython3",
   "version": "3.10.5"
  }
 },
 "nbformat": 4,
 "nbformat_minor": 5
}
