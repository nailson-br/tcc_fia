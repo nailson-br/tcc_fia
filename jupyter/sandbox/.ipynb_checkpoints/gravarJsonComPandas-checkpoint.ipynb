{
 "cells": [
  {
   "cell_type": "code",
   "execution_count": 1,
   "metadata": {},
   "outputs": [],
   "source": [
    "import pandas as pd\n",
    "import requests\n",
    "from configparser import ConfigParser\n",
    "import boto3\n",
    "from botocore.exceptions import NoCredentialsError\n",
    "import io"
   ]
  },
  {
   "cell_type": "code",
   "execution_count": 2,
   "metadata": {},
   "outputs": [
    {
     "data": {
      "text/plain": [
       "['../config/config.ini']"
      ]
     },
     "execution_count": 2,
     "metadata": {},
     "output_type": "execute_result"
    }
   ],
   "source": [
    "# Carregar as configurações do arquivo ini\n",
    "config = ConfigParser()\n",
    "config.read(\"../config/config.ini\")"
   ]
  },
  {
   "cell_type": "code",
   "execution_count": 3,
   "metadata": {},
   "outputs": [
    {
     "data": {
      "text/plain": [
       "'https://servicodados.ibge.gov.br/api/v1/localidades/municipios'"
      ]
     },
     "execution_count": 3,
     "metadata": {},
     "output_type": "execute_result"
    }
   ],
   "source": [
    "# Caminho para download dos dados\n",
    "url_municipios_ibge = config.get(\"URL\", \"municipios_ibge\")\n",
    "url_municipios_ibge"
   ]
  },
  {
   "cell_type": "code",
   "execution_count": 4,
   "metadata": {},
   "outputs": [],
   "source": [
    "# Fazer a requisição para obter o JSON da URL\n",
    "response = requests.get(url_municipios_ibge)\n",
    "municipios_data = response.json()"
   ]
  },
  {
   "cell_type": "code",
   "execution_count": 5,
   "metadata": {},
   "outputs": [
    {
     "data": {
      "text/plain": [
       "5570"
      ]
     },
     "execution_count": 5,
     "metadata": {},
     "output_type": "execute_result"
    }
   ],
   "source": [
    "len(municipios_data)"
   ]
  },
  {
   "cell_type": "code",
   "execution_count": 6,
   "metadata": {},
   "outputs": [],
   "source": [
    "# Carregar o JSON em um DataFrame Pandas\n",
    "df = pd.json_normalize(municipios_data)"
   ]
  },
  {
   "cell_type": "code",
   "execution_count": 7,
   "metadata": {},
   "outputs": [
    {
     "data": {
      "text/html": [
       "<div>\n",
       "<style scoped>\n",
       "    .dataframe tbody tr th:only-of-type {\n",
       "        vertical-align: middle;\n",
       "    }\n",
       "\n",
       "    .dataframe tbody tr th {\n",
       "        vertical-align: top;\n",
       "    }\n",
       "\n",
       "    .dataframe thead th {\n",
       "        text-align: right;\n",
       "    }\n",
       "</style>\n",
       "<table border=\"1\" class=\"dataframe\">\n",
       "  <thead>\n",
       "    <tr style=\"text-align: right;\">\n",
       "      <th></th>\n",
       "      <th>id</th>\n",
       "      <th>nome</th>\n",
       "      <th>microrregiao.id</th>\n",
       "      <th>microrregiao.nome</th>\n",
       "      <th>microrregiao.mesorregiao.id</th>\n",
       "      <th>microrregiao.mesorregiao.nome</th>\n",
       "      <th>microrregiao.mesorregiao.UF.id</th>\n",
       "      <th>microrregiao.mesorregiao.UF.sigla</th>\n",
       "      <th>microrregiao.mesorregiao.UF.nome</th>\n",
       "      <th>microrregiao.mesorregiao.UF.regiao.id</th>\n",
       "      <th>...</th>\n",
       "      <th>regiao-imediata.id</th>\n",
       "      <th>regiao-imediata.nome</th>\n",
       "      <th>regiao-imediata.regiao-intermediaria.id</th>\n",
       "      <th>regiao-imediata.regiao-intermediaria.nome</th>\n",
       "      <th>regiao-imediata.regiao-intermediaria.UF.id</th>\n",
       "      <th>regiao-imediata.regiao-intermediaria.UF.sigla</th>\n",
       "      <th>regiao-imediata.regiao-intermediaria.UF.nome</th>\n",
       "      <th>regiao-imediata.regiao-intermediaria.UF.regiao.id</th>\n",
       "      <th>regiao-imediata.regiao-intermediaria.UF.regiao.sigla</th>\n",
       "      <th>regiao-imediata.regiao-intermediaria.UF.regiao.nome</th>\n",
       "    </tr>\n",
       "  </thead>\n",
       "  <tbody>\n",
       "    <tr>\n",
       "      <th>0</th>\n",
       "      <td>1100015</td>\n",
       "      <td>Alta Floresta D'Oeste</td>\n",
       "      <td>11006</td>\n",
       "      <td>Cacoal</td>\n",
       "      <td>1102</td>\n",
       "      <td>Leste Rondoniense</td>\n",
       "      <td>11</td>\n",
       "      <td>RO</td>\n",
       "      <td>Rondônia</td>\n",
       "      <td>1</td>\n",
       "      <td>...</td>\n",
       "      <td>110005</td>\n",
       "      <td>Cacoal</td>\n",
       "      <td>1102</td>\n",
       "      <td>Ji-Paraná</td>\n",
       "      <td>11</td>\n",
       "      <td>RO</td>\n",
       "      <td>Rondônia</td>\n",
       "      <td>1</td>\n",
       "      <td>N</td>\n",
       "      <td>Norte</td>\n",
       "    </tr>\n",
       "    <tr>\n",
       "      <th>1</th>\n",
       "      <td>1100023</td>\n",
       "      <td>Ariquemes</td>\n",
       "      <td>11003</td>\n",
       "      <td>Ariquemes</td>\n",
       "      <td>1102</td>\n",
       "      <td>Leste Rondoniense</td>\n",
       "      <td>11</td>\n",
       "      <td>RO</td>\n",
       "      <td>Rondônia</td>\n",
       "      <td>1</td>\n",
       "      <td>...</td>\n",
       "      <td>110002</td>\n",
       "      <td>Ariquemes</td>\n",
       "      <td>1101</td>\n",
       "      <td>Porto Velho</td>\n",
       "      <td>11</td>\n",
       "      <td>RO</td>\n",
       "      <td>Rondônia</td>\n",
       "      <td>1</td>\n",
       "      <td>N</td>\n",
       "      <td>Norte</td>\n",
       "    </tr>\n",
       "    <tr>\n",
       "      <th>2</th>\n",
       "      <td>1100031</td>\n",
       "      <td>Cabixi</td>\n",
       "      <td>11008</td>\n",
       "      <td>Colorado do Oeste</td>\n",
       "      <td>1102</td>\n",
       "      <td>Leste Rondoniense</td>\n",
       "      <td>11</td>\n",
       "      <td>RO</td>\n",
       "      <td>Rondônia</td>\n",
       "      <td>1</td>\n",
       "      <td>...</td>\n",
       "      <td>110006</td>\n",
       "      <td>Vilhena</td>\n",
       "      <td>1102</td>\n",
       "      <td>Ji-Paraná</td>\n",
       "      <td>11</td>\n",
       "      <td>RO</td>\n",
       "      <td>Rondônia</td>\n",
       "      <td>1</td>\n",
       "      <td>N</td>\n",
       "      <td>Norte</td>\n",
       "    </tr>\n",
       "    <tr>\n",
       "      <th>3</th>\n",
       "      <td>1100049</td>\n",
       "      <td>Cacoal</td>\n",
       "      <td>11006</td>\n",
       "      <td>Cacoal</td>\n",
       "      <td>1102</td>\n",
       "      <td>Leste Rondoniense</td>\n",
       "      <td>11</td>\n",
       "      <td>RO</td>\n",
       "      <td>Rondônia</td>\n",
       "      <td>1</td>\n",
       "      <td>...</td>\n",
       "      <td>110005</td>\n",
       "      <td>Cacoal</td>\n",
       "      <td>1102</td>\n",
       "      <td>Ji-Paraná</td>\n",
       "      <td>11</td>\n",
       "      <td>RO</td>\n",
       "      <td>Rondônia</td>\n",
       "      <td>1</td>\n",
       "      <td>N</td>\n",
       "      <td>Norte</td>\n",
       "    </tr>\n",
       "    <tr>\n",
       "      <th>4</th>\n",
       "      <td>1100056</td>\n",
       "      <td>Cerejeiras</td>\n",
       "      <td>11008</td>\n",
       "      <td>Colorado do Oeste</td>\n",
       "      <td>1102</td>\n",
       "      <td>Leste Rondoniense</td>\n",
       "      <td>11</td>\n",
       "      <td>RO</td>\n",
       "      <td>Rondônia</td>\n",
       "      <td>1</td>\n",
       "      <td>...</td>\n",
       "      <td>110006</td>\n",
       "      <td>Vilhena</td>\n",
       "      <td>1102</td>\n",
       "      <td>Ji-Paraná</td>\n",
       "      <td>11</td>\n",
       "      <td>RO</td>\n",
       "      <td>Rondônia</td>\n",
       "      <td>1</td>\n",
       "      <td>N</td>\n",
       "      <td>Norte</td>\n",
       "    </tr>\n",
       "  </tbody>\n",
       "</table>\n",
       "<p>5 rows × 22 columns</p>\n",
       "</div>"
      ],
      "text/plain": [
       "        id                   nome  microrregiao.id  microrregiao.nome  \\\n",
       "0  1100015  Alta Floresta D'Oeste            11006             Cacoal   \n",
       "1  1100023              Ariquemes            11003          Ariquemes   \n",
       "2  1100031                 Cabixi            11008  Colorado do Oeste   \n",
       "3  1100049                 Cacoal            11006             Cacoal   \n",
       "4  1100056             Cerejeiras            11008  Colorado do Oeste   \n",
       "\n",
       "   microrregiao.mesorregiao.id microrregiao.mesorregiao.nome  \\\n",
       "0                         1102             Leste Rondoniense   \n",
       "1                         1102             Leste Rondoniense   \n",
       "2                         1102             Leste Rondoniense   \n",
       "3                         1102             Leste Rondoniense   \n",
       "4                         1102             Leste Rondoniense   \n",
       "\n",
       "   microrregiao.mesorregiao.UF.id microrregiao.mesorregiao.UF.sigla  \\\n",
       "0                              11                                RO   \n",
       "1                              11                                RO   \n",
       "2                              11                                RO   \n",
       "3                              11                                RO   \n",
       "4                              11                                RO   \n",
       "\n",
       "  microrregiao.mesorregiao.UF.nome  microrregiao.mesorregiao.UF.regiao.id  \\\n",
       "0                         Rondônia                                      1   \n",
       "1                         Rondônia                                      1   \n",
       "2                         Rondônia                                      1   \n",
       "3                         Rondônia                                      1   \n",
       "4                         Rondônia                                      1   \n",
       "\n",
       "   ... regiao-imediata.id regiao-imediata.nome  \\\n",
       "0  ...             110005               Cacoal   \n",
       "1  ...             110002            Ariquemes   \n",
       "2  ...             110006              Vilhena   \n",
       "3  ...             110005               Cacoal   \n",
       "4  ...             110006              Vilhena   \n",
       "\n",
       "   regiao-imediata.regiao-intermediaria.id  \\\n",
       "0                                     1102   \n",
       "1                                     1101   \n",
       "2                                     1102   \n",
       "3                                     1102   \n",
       "4                                     1102   \n",
       "\n",
       "  regiao-imediata.regiao-intermediaria.nome  \\\n",
       "0                                 Ji-Paraná   \n",
       "1                               Porto Velho   \n",
       "2                                 Ji-Paraná   \n",
       "3                                 Ji-Paraná   \n",
       "4                                 Ji-Paraná   \n",
       "\n",
       "   regiao-imediata.regiao-intermediaria.UF.id  \\\n",
       "0                                          11   \n",
       "1                                          11   \n",
       "2                                          11   \n",
       "3                                          11   \n",
       "4                                          11   \n",
       "\n",
       "  regiao-imediata.regiao-intermediaria.UF.sigla  \\\n",
       "0                                            RO   \n",
       "1                                            RO   \n",
       "2                                            RO   \n",
       "3                                            RO   \n",
       "4                                            RO   \n",
       "\n",
       "   regiao-imediata.regiao-intermediaria.UF.nome  \\\n",
       "0                                      Rondônia   \n",
       "1                                      Rondônia   \n",
       "2                                      Rondônia   \n",
       "3                                      Rondônia   \n",
       "4                                      Rondônia   \n",
       "\n",
       "  regiao-imediata.regiao-intermediaria.UF.regiao.id  \\\n",
       "0                                                 1   \n",
       "1                                                 1   \n",
       "2                                                 1   \n",
       "3                                                 1   \n",
       "4                                                 1   \n",
       "\n",
       "  regiao-imediata.regiao-intermediaria.UF.regiao.sigla  \\\n",
       "0                                                  N     \n",
       "1                                                  N     \n",
       "2                                                  N     \n",
       "3                                                  N     \n",
       "4                                                  N     \n",
       "\n",
       "   regiao-imediata.regiao-intermediaria.UF.regiao.nome  \n",
       "0                                              Norte    \n",
       "1                                              Norte    \n",
       "2                                              Norte    \n",
       "3                                              Norte    \n",
       "4                                              Norte    \n",
       "\n",
       "[5 rows x 22 columns]"
      ]
     },
     "execution_count": 7,
     "metadata": {},
     "output_type": "execute_result"
    }
   ],
   "source": [
    "df.head()"
   ]
  },
  {
   "cell_type": "code",
   "execution_count": 8,
   "metadata": {},
   "outputs": [],
   "source": [
    "# Configurações para conexão com o MinIO/S3\n",
    "endpoint = config.get(\"MinIO\", \"endpoint\")\n",
    "access_key = config.get(\"MinIO\", \"access_key\")\n",
    "secret_key = config.get(\"MinIO\", \"secret_key\")\n",
    "bucket_raw = config.get(\"Bucket\", \"bucket_raw\")\n",
    "bucket_context = config.get(\"Bucket\", \"bucket_context\")\n",
    "prefix_municipios_ibge_json = config.get(\"Bucket\", \"prefix_municipios_ibge_json\")\n",
    "prefix_municipios_ibge_csv = config.get(\"Bucket\", \"prefix_municipios_ibge_csv\")"
   ]
  },
  {
   "cell_type": "code",
   "execution_count": 9,
   "metadata": {},
   "outputs": [
    {
     "name": "stdout",
     "output_type": "stream",
     "text": [
      "endpoint =  http://minio:9000\n",
      "access_key =  aulafia\n",
      "secret_key =  aulafia@123\n",
      "bucket_raw =  raw\n",
      "bucket_context =  context\n",
      "prefix_municipios_ibge_json =  municipios_ibge_json/\n",
      "prefix_municipios_ibge_csv =  municipios_ibge_csv/\n"
     ]
    }
   ],
   "source": [
    "print(\"endpoint = \", endpoint)\n",
    "print(\"access_key = \", access_key)\n",
    "print(\"secret_key = \", secret_key)\n",
    "print(\"bucket_raw = \", bucket_raw)\n",
    "print(\"bucket_context = \", bucket_context)\n",
    "print(\"prefix_municipios_ibge_json = \", prefix_municipios_ibge_json)\n",
    "print(\"prefix_municipios_ibge_csv = \", prefix_municipios_ibge_csv)"
   ]
  },
  {
   "cell_type": "code",
   "execution_count": 10,
   "metadata": {},
   "outputs": [],
   "source": [
    "# Inicializar o cliente boto3 para S3\n",
    "s3_client = boto3.client(\n",
    "    \"s3\",\n",
    "    endpoint_url=endpoint,\n",
    "    aws_access_key_id=access_key,\n",
    "    aws_secret_access_key=secret_key,\n",
    ")"
   ]
  },
  {
   "cell_type": "code",
   "execution_count": 14,
   "metadata": {},
   "outputs": [
    {
     "data": {
      "text/plain": [
       "{'ResponseMetadata': {'RequestId': '177F4BA104E21920',\n",
       "  'HostId': 'dd9025bab4ad464b049177c95eb6ebf374d3b3fd1af9251148b658df7ac2e3e8',\n",
       "  'HTTPStatusCode': 200,\n",
       "  'HTTPHeaders': {'accept-ranges': 'bytes',\n",
       "   'content-length': '0',\n",
       "   'etag': '\"7aef9d4700897b7a681572da75f7a1cc\"',\n",
       "   'server': 'MinIO',\n",
       "   'strict-transport-security': 'max-age=31536000; includeSubDomains',\n",
       "   'vary': 'Origin, Accept-Encoding',\n",
       "   'x-amz-id-2': 'dd9025bab4ad464b049177c95eb6ebf374d3b3fd1af9251148b658df7ac2e3e8',\n",
       "   'x-amz-request-id': '177F4BA104E21920',\n",
       "   'x-content-type-options': 'nosniff',\n",
       "   'x-xss-protection': '1; mode=block',\n",
       "   'date': 'Sun, 27 Aug 2023 16:52:20 GMT'},\n",
       "  'RetryAttempts': 0},\n",
       " 'ETag': '\"7aef9d4700897b7a681572da75f7a1cc\"'}"
      ]
     },
     "execution_count": 14,
     "metadata": {},
     "output_type": "execute_result"
    }
   ],
   "source": [
    "# Armazenar o JSON no bucket 'raw'\n",
    "json_filename = \"MunicipiosIBGE.json\"\n",
    "json_s3_path = f\"{prefix_municipios_ibge_json}{json_filename}\"\n",
    "\n",
    "# try:\n",
    "#     s3_client.put_object(Bucket=s3_bucket_raw, Key=json_s3_path, Body=response.content)\n",
    "#     print(f\"JSON file uploaded to MinIO: {json_s3_path}\")\n",
    "# except NoCredentialsError:\n",
    "#     print(\"Credentials not available.\")\n",
    "\n",
    "s3_client.put_object(Bucket=bucket_raw, Key=prefix_municipios_ibge_json + json_filename, Body=response.content)"
   ]
  },
  {
   "cell_type": "code",
   "execution_count": null,
   "metadata": {},
   "outputs": [],
   "source": []
  }
 ],
 "metadata": {
  "kernelspec": {
   "display_name": "Python 3 (ipykernel)",
   "language": "python",
   "name": "python3"
  },
  "language_info": {
   "codemirror_mode": {
    "name": "ipython",
    "version": 3
   },
   "file_extension": ".py",
   "mimetype": "text/x-python",
   "name": "python",
   "nbconvert_exporter": "python",
   "pygments_lexer": "ipython3",
   "version": "3.10.5"
  }
 },
 "nbformat": 4,
 "nbformat_minor": 4
}
