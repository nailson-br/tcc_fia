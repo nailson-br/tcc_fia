{
 "cells": [
  {
   "cell_type": "code",
   "execution_count": null,
   "id": "990ce64a-b524-41fb-bb9f-a97ea3a71006",
   "metadata": {},
   "outputs": [],
   "source": [
    "import boto3\n",
    "from configparser import ConfigParser\n",
    "import json\n",
    "import pandas as pd\n",
    "import io"
   ]
  },
  {
   "cell_type": "code",
   "execution_count": null,
   "id": "ceb166ef-3e66-42e1-9f16-2bb88b4c6f0c",
   "metadata": {},
   "outputs": [],
   "source": [
    "# Carregar as configurações do arquivo ini\n",
    "config = ConfigParser()\n",
    "config.read(\"../config/config.ini\")"
   ]
  },
  {
   "cell_type": "code",
   "execution_count": null,
   "id": "495110c0-c4f0-4cfa-ade4-c03e6f2bae2b",
   "metadata": {},
   "outputs": [],
   "source": [
    "# Configurações para conexão com o MinIO/S3\n",
    "endpoint = config.get(\"MinIO\", \"endpoint\")\n",
    "access_key = config.get(\"MinIO\", \"access_key\")\n",
    "secret_key = config.get(\"MinIO\", \"secret_key\")\n",
    "bucket_context = config.get(\"Bucket\", \"bucket_context\")\n",
    "\n",
    "# Nome do arquivo a ser lido\n",
    "source_filename = config.get(\"FILE\", \"coordenadas_municipios_csv\")"
   ]
  },
  {
   "cell_type": "code",
   "execution_count": null,
   "id": "c154236b-5791-4f84-b595-59fc0458f0b0",
   "metadata": {},
   "outputs": [],
   "source": [
    "print(\"endpoint:\", endpoint)\n",
    "print(\"access_key:\", access_key)\n",
    "print(\"secret_key:\", secret_key)\n",
    "print(\"bucket_trust:\", bucket_trust)\n",
    "print(\"bucket_context:\", bucket_context)\n",
    "print(\"source_filename:\", source_filename)\n",
    "print(\"target_filename:\", target_filename)"
   ]
  },
  {
   "cell_type": "code",
   "execution_count": null,
   "id": "669cc9b6-cf2f-4308-9b41-859e065e00e2",
   "metadata": {},
   "outputs": [],
   "source": [
    "# Inicializar o cliente boto3 para S3\n",
    "minio_client = boto3.client(\"s3\", \n",
    "                            endpoint_url=endpoint,\n",
    "                            aws_access_key_id=access_key,\n",
    "                            aws_secret_access_key=secret_key\n",
    ")"
   ]
  },
  {
   "cell_type": "code",
   "execution_count": null,
   "id": "3017a036-1660-4ccd-a963-ae0ab12b2da3",
   "metadata": {},
   "outputs": [],
   "source": [
    "# Baixar o arquivo CSV do bucket 'context'\n",
    "response = minio_client.get_object(Bucket=bucket_context,\n",
    "                         Key=source_filename)\n",
    "csv_content = response['Body'].read()"
   ]
  },
  {
   "cell_type": "code",
   "execution_count": null,
   "id": "14ef4dd8-d58b-406d-9241-fc748ee30111",
   "metadata": {},
   "outputs": [],
   "source": [
    "# Carregar o conteúdo CSV em um DataFrame do pandas\n",
    "data_frame = pd.read_csv(io.BytesIO(csv_content))"
   ]
  },
  {
   "cell_type": "code",
   "execution_count": null,
   "id": "7b34aa49-6092-4f9c-b3a8-f257eb1a2b7f",
   "metadata": {},
   "outputs": [],
   "source": [
    "# Selecionar apenas as 13 primeiras colunas\n",
    "selected_columns = data_frame.iloc[:, :13]"
   ]
  },
  {
   "cell_type": "code",
   "execution_count": null,
   "id": "68c66ab2-61f7-44f7-9106-3a1c9c6eb8f1",
   "metadata": {},
   "outputs": [],
   "source": [
    "# Criar um fluxo de gravação em buffer para o novo arquivo CSV\n",
    "output_buffer = io.StringIO()"
   ]
  },
  {
   "cell_type": "code",
   "execution_count": null,
   "id": "2d37217e-3d1f-466f-91b2-d8f2606fde7c",
   "metadata": {},
   "outputs": [],
   "source": [
    "# Salvar o DataFrame reduzido como um arquivo CSV no buffer\n",
    "selected_columns.to_csv(output_buffer, index=False, encoding='utf-8')"
   ]
  },
  {
   "cell_type": "code",
   "execution_count": null,
   "id": "6287b9f7-25d0-4fdc-9411-2844f012b096",
   "metadata": {},
   "outputs": [],
   "source": [
    "# Obter o conteúdo do buffer como bytes codificados em UTF-8\n",
    "encoded_csv_content = output_buffer.getvalue().encode('utf-8')"
   ]
  },
  {
   "cell_type": "code",
   "execution_count": null,
   "id": "09085832-52ff-4e50-af7a-a12e4ce4609d",
   "metadata": {},
   "outputs": [],
   "source": [
    "# Enviar o novo arquivo CSV codificado para o bucket de destino\n",
    "minio_client.put_object(Bucket=bucket_trust, Key=target_filename, Body=encoded_csv_content)"
   ]
  },
  {
   "cell_type": "code",
   "execution_count": null,
   "id": "90c74229-549d-4020-aff4-8df5cbf08a4a",
   "metadata": {},
   "outputs": [],
   "source": []
  }
 ],
 "metadata": {
  "kernelspec": {
   "display_name": "Python 3 (ipykernel)",
   "language": "python",
   "name": "python3"
  },
  "language_info": {
   "codemirror_mode": {
    "name": "ipython",
    "version": 3
   },
   "file_extension": ".py",
   "mimetype": "text/x-python",
   "name": "python",
   "nbconvert_exporter": "python",
   "pygments_lexer": "ipython3",
   "version": "3.10.5"
  }
 },
 "nbformat": 4,
 "nbformat_minor": 5
}
