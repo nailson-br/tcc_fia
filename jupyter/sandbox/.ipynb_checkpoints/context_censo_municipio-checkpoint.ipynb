{
 "cells": [
  {
   "cell_type": "code",
   "execution_count": 5,
   "id": "08c753dc-1dbd-4526-b676-6811370188de",
   "metadata": {},
   "outputs": [],
   "source": [
    "#!pip install boto3\n",
    "import boto3\n",
    "from configparser import ConfigParser\n",
    "import io"
   ]
  },
  {
   "cell_type": "code",
   "execution_count": 9,
   "id": "6c6f301b-6fda-4022-90ed-81e642dcea15",
   "metadata": {},
   "outputs": [
    {
     "data": {
      "text/plain": [
       "['../config/config.ini']"
      ]
     },
     "execution_count": 9,
     "metadata": {},
     "output_type": "execute_result"
    }
   ],
   "source": [
    "# Carregar as configurações do arquivo ini\n",
    "config = ConfigParser()\n",
    "config.read(\"../config/config.ini\")"
   ]
  },
  {
   "cell_type": "code",
   "execution_count": 11,
   "id": "9e13264e-18fd-439c-90d0-fd8588f81d8f",
   "metadata": {},
   "outputs": [],
   "source": [
    "# Configurações para conexão com o MinIO/S3\n",
    "endpoint = config.get(\"MinIO\", \"endpoint\")\n",
    "access_key = config.get(\"MinIO\", \"access_key\")\n",
    "secret_key = config.get(\"MinIO\", \"secret_key\")\n",
    "bucket_raw = config.get(\"Bucket\", \"bucket_raw\")\n",
    "bucket_context = config.get(\"Bucket\", \"bucket_context\")\n",
    "prefix_censo_csv = config.get(\"Bucket\", \"prefix_censo_csv\") # Prefixo do arquivo CSV na raw\n",
    "prefix_censo_saude_csv = config.get(\"Bucket\", \"prefix_censo_saude_csv\") # Prefixo do arquivo somente com as informações de saúde que vai para a context"
   ]
  },
  {
   "cell_type": "code",
   "execution_count": null,
   "id": "24ae6643-0a8d-44fc-bfc4-836ada2688d9",
   "metadata": {},
   "outputs": [],
   "source": []
  }
 ],
 "metadata": {
  "kernelspec": {
   "display_name": "Python 3 (ipykernel)",
   "language": "python",
   "name": "python3"
  },
  "language_info": {
   "codemirror_mode": {
    "name": "ipython",
    "version": 3
   },
   "file_extension": ".py",
   "mimetype": "text/x-python",
   "name": "python",
   "nbconvert_exporter": "python",
   "pygments_lexer": "ipython3",
   "version": "3.10.5"
  }
 },
 "nbformat": 4,
 "nbformat_minor": 5
}
