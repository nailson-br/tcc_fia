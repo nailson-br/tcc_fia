{
 "cells": [
  {
   "cell_type": "code",
   "execution_count": 3,
   "id": "9f3c043c-6b92-4023-9e42-244625039c8b",
   "metadata": {},
   "outputs": [],
   "source": [
    "import boto3\n",
    "import pandas as pd\n",
    "from configparser import ConfigParser\n",
    "from io import BytesIO"
   ]
  },
  {
   "cell_type": "code",
   "execution_count": 4,
   "id": "bbe36f42-5c2b-425e-aeed-d657b7077ed5",
   "metadata": {},
   "outputs": [
    {
     "data": {
      "text/plain": [
       "['../config/config.ini']"
      ]
     },
     "execution_count": 4,
     "metadata": {},
     "output_type": "execute_result"
    }
   ],
   "source": [
    "# Carregar as configurações do arquivo ini\n",
    "config = ConfigParser()\n",
    "config.read(\"../config/config.ini\")"
   ]
  },
  {
   "cell_type": "code",
   "execution_count": 5,
   "id": "c635c505-53e7-42d2-8f0d-16d10cc6e6a1",
   "metadata": {},
   "outputs": [],
   "source": [
    "# Configurações para conexão com o MinIO/S3\n",
    "endpoint = config.get(\"MinIO\", \"endpoint\")\n",
    "access_key = config.get(\"MinIO\", \"access_key\")\n",
    "secret_key = config.get(\"MinIO\", \"secret_key\")\n",
    "bucket_raw = config.get(\"Bucket\", \"bucket_raw\")\n",
    "bucket_context = config.get(\"Bucket\", \"bucket_context\")\n",
    "prefix_municipios_ibge_json = config.get(\"Bucket\", \"prefix_municipios_ibge_json\")\n",
    "prefix_municipios_ibge_csv = config.get(\"Bucket\", \"prefix_municipios_ibge_csv\")"
   ]
  },
  {
   "cell_type": "code",
   "execution_count": null,
   "id": "b1245026-5e2d-4fda-8e56-8fcdc6fec9d9",
   "metadata": {},
   "outputs": [],
   "source": [
    "# Nomes dos arquivos\n",
    "arquivo_origem = config.get(\"FILE\", \"municipios_ibge_json\")\n",
    "arquivo_destino = config.get(\"FILE\", \"municipios_ibge_csv\")"
   ]
  },
  {
   "cell_type": "code",
   "execution_count": 7,
   "id": "29077657-ef5a-4772-9b84-e7f32b2d0fe8",
   "metadata": {},
   "outputs": [],
   "source": [
    "# Inicializar o cliente boto3\n",
    "minio_client = boto3.client('s3',\n",
    "                         endpoint_url=endpoint,\n",
    "                         aws_access_key_id=access_key,\n",
    "                         aws_secret_access_key=secret_key)\n"
   ]
  },
  {
   "cell_type": "code",
   "execution_count": null,
   "id": "e7f2e9bc-e1c2-476f-8135-7e60bcff976c",
   "metadata": {},
   "outputs": [],
   "source": [
    "# Carregar o objeto do MinIO\n",
    "response = minio_client.get_object(Bucket=bucket_raw, Key=prefix_municipios_ibge_json)\n",
    "file_content = response['Body'].read()"
   ]
  }
 ],
 "metadata": {
  "kernelspec": {
   "display_name": "Python 3 (ipykernel)",
   "language": "python",
   "name": "python3"
  },
  "language_info": {
   "codemirror_mode": {
    "name": "ipython",
    "version": 3
   },
   "file_extension": ".py",
   "mimetype": "text/x-python",
   "name": "python",
   "nbconvert_exporter": "python",
   "pygments_lexer": "ipython3",
   "version": "3.10.5"
  }
 },
 "nbformat": 4,
 "nbformat_minor": 5
}
