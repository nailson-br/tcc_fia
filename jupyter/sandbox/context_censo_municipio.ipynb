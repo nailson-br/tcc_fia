{
 "cells": [
  {
   "cell_type": "code",
   "execution_count": 1,
   "id": "08c753dc-1dbd-4526-b676-6811370188de",
   "metadata": {},
   "outputs": [],
   "source": [
    "#!pip install boto3\n",
    "import boto3\n",
    "from configparser import ConfigParser\n",
    "import io"
   ]
  },
  {
   "cell_type": "code",
   "execution_count": 2,
   "id": "6c6f301b-6fda-4022-90ed-81e642dcea15",
   "metadata": {},
   "outputs": [
    {
     "data": {
      "text/plain": [
       "['../config/config.ini']"
      ]
     },
     "execution_count": 2,
     "metadata": {},
     "output_type": "execute_result"
    }
   ],
   "source": [
    "# Carregar as configurações do arquivo ini\n",
    "config = ConfigParser()\n",
    "config.read(\"../config/config.ini\")"
   ]
  },
  {
   "cell_type": "code",
   "execution_count": 3,
   "id": "9e13264e-18fd-439c-90d0-fd8588f81d8f",
   "metadata": {},
   "outputs": [],
   "source": [
    "# Configurações para conexão com o MinIO/S3\n",
    "endpoint = config.get(\"MinIO\", \"endpoint\")\n",
    "access_key = config.get(\"MinIO\", \"access_key\")\n",
    "secret_key = config.get(\"MinIO\", \"secret_key\")\n",
    "bucket_raw = config.get(\"Bucket\", \"bucket_raw\")\n",
    "bucket_context = config.get(\"Bucket\", \"bucket_context\")\n",
    "prefix_censo_csv = config.get(\"Bucket\", \"prefix_censo_csv\") # Prefixo do arquivo CSV na raw\n",
    "prefix_censo_municipios_csv = config.get(\"Bucket\", \"prefix_censo_municipios_csv\") # Prefixo do arquivo somente com as informações de saúde que vai para a context\n",
    "\n",
    "# Nome do arquivo a ser lido\n",
    "source_filename = config.get(\"RAW_BUCKET_FILES\", \"censo_municipios_csv\")\n",
    "target_filename = config.get(\"FILE\", \"censo_municipios_csv\")"
   ]
  },
  {
   "cell_type": "code",
   "execution_count": 4,
   "id": "24ae6643-0a8d-44fc-bfc4-836ada2688d9",
   "metadata": {},
   "outputs": [
    {
     "name": "stdout",
     "output_type": "stream",
     "text": [
      "endpoint: http://minio:9000\n",
      "access_key: aulafia\n",
      "secret_key: aulafia@123\n",
      "bucket_raw: raw\n",
      "bucket_context: context\n",
      "prefix_censo_csv: bases_censo_csv/\n",
      "prefix_censo_municipios_csv: censo_municipios_csv/\n",
      "source_filename: Atlas 2013_municipal, estadual e Brasil-MUN 91-00-10.csv\n",
      "target_filename: CensoMunicipios.csv\n"
     ]
    }
   ],
   "source": [
    "print(\"endpoint:\", endpoint)\n",
    "print(\"access_key:\", access_key)\n",
    "print(\"secret_key:\", secret_key)\n",
    "print(\"bucket_raw:\", bucket_raw)\n",
    "print(\"bucket_context:\", bucket_context)\n",
    "print(\"prefix_censo_csv:\", prefix_censo_csv)\n",
    "print(\"prefix_censo_municipios_csv:\", prefix_censo_municipios_csv)\n",
    "print(\"source_filename:\", source_filename)\n",
    "print(\"target_filename:\", target_filename)"
   ]
  },
  {
   "cell_type": "code",
   "execution_count": 5,
   "id": "d4a399da",
   "metadata": {},
   "outputs": [],
   "source": [
    "# Inicializar o cliente boto3 para S3\n",
    "minio_client = boto3.client(\"s3\", \n",
    "                            endpoint_url=endpoint,\n",
    "                            aws_access_key_id=access_key,\n",
    "                            aws_secret_access_key=secret_key\n",
    ")"
   ]
  },
  {
   "cell_type": "code",
   "execution_count": 6,
   "id": "34f48b8c-681c-4185-bc04-c1f9a184cecf",
   "metadata": {},
   "outputs": [
    {
     "name": "stdout",
     "output_type": "stream",
     "text": [
      "rawbases_censo_csv/Atlas 2013_municipal, estadual e Brasil-MUN 91-00-10.csv\n"
     ]
    }
   ],
   "source": [
    "print(bucket_raw + prefix_censo_csv + source_filename)"
   ]
  },
  {
   "cell_type": "code",
   "execution_count": 7,
   "id": "43a83ba0",
   "metadata": {},
   "outputs": [],
   "source": [
    "# Obter o objeto do arquivo do bucket de origem\n",
    "response = minio_client.get_object(Bucket=bucket_raw,\n",
    "                                   Key=prefix_censo_csv + \n",
    "                                   source_filename)\n",
    "csv_stream = response['Body']"
   ]
  },
  {
   "cell_type": "code",
   "execution_count": 8,
   "id": "27b26101-17ca-4ae3-b0e0-65ab3cadcd6a",
   "metadata": {},
   "outputs": [],
   "source": [
    "# Iniciar um fluxo de gravação em buffer para o arquivo de destino\n",
    "output_buffer = io.BytesIO()"
   ]
  },
  {
   "cell_type": "code",
   "execution_count": 9,
   "id": "53211bda-b6c3-4adc-af87-ce2a4304bcb0",
   "metadata": {},
   "outputs": [
    {
     "data": {
      "text/plain": [
       "<botocore.response.StreamingBody at 0x7f7c784793c0>"
      ]
     },
     "execution_count": 9,
     "metadata": {},
     "output_type": "execute_result"
    }
   ],
   "source": [
    "csv_stream"
   ]
  },
  {
   "cell_type": "code",
   "execution_count": 10,
   "id": "9675dc31-1be7-4658-998d-8b595eff4037",
   "metadata": {},
   "outputs": [],
   "source": [
    "# Ler e escrever em partes para lidar com arquivos grandes\n",
    "chunk_size = 1024 * 1024  # Tamanho de cada parte em bytes (1 MB)\n",
    "\n",
    "while True:\n",
    "    chunk = csv_stream.read(chunk_size)\n",
    "    if not chunk:\n",
    "        break\n",
    "    output_buffer.write(chunk)"
   ]
  },
  {
   "cell_type": "code",
   "execution_count": 11,
   "id": "10100e9c",
   "metadata": {},
   "outputs": [],
   "source": [
    "# Decodificar o conteúdo do CSV usando UTF-8\n",
    "decoded_csv_content = output_buffer.getvalue().decode('utf-8')"
   ]
  },
  {
   "cell_type": "code",
   "execution_count": 12,
   "id": "ed4f465b-b8d7-4f58-aaec-b011461421ec",
   "metadata": {},
   "outputs": [],
   "source": [
    "# Codificar novamente o conteúdo em UTF-8\n",
    "encoded_csv_content = decoded_csv_content.encode('utf-8')"
   ]
  },
  {
   "cell_type": "code",
   "execution_count": 13,
   "id": "24a0d4ae-3753-41f4-a615-045c16a0a46b",
   "metadata": {},
   "outputs": [
    {
     "data": {
      "text/plain": [
       "{'ResponseMetadata': {'RequestId': '177F5EA93EAE9863',\n",
       "  'HostId': 'dd9025bab4ad464b049177c95eb6ebf374d3b3fd1af9251148b658df7ac2e3e8',\n",
       "  'HTTPStatusCode': 200,\n",
       "  'HTTPHeaders': {'accept-ranges': 'bytes',\n",
       "   'content-length': '0',\n",
       "   'etag': '\"0b825fd116866b19bc14e190b9683b9c\"',\n",
       "   'server': 'MinIO',\n",
       "   'strict-transport-security': 'max-age=31536000; includeSubDomains',\n",
       "   'vary': 'Origin, Accept-Encoding',\n",
       "   'x-amz-id-2': 'dd9025bab4ad464b049177c95eb6ebf374d3b3fd1af9251148b658df7ac2e3e8',\n",
       "   'x-amz-request-id': '177F5EA93EAE9863',\n",
       "   'x-content-type-options': 'nosniff',\n",
       "   'x-xss-protection': '1; mode=block',\n",
       "   'date': 'Sun, 27 Aug 2023 22:41:06 GMT'},\n",
       "  'RetryAttempts': 0},\n",
       " 'ETag': '\"0b825fd116866b19bc14e190b9683b9c\"'}"
      ]
     },
     "execution_count": 13,
     "metadata": {},
     "output_type": "execute_result"
    }
   ],
   "source": [
    "# Enviar o arquivo codificado para o bucket de destino\n",
    "minio_client.put_object(Bucket=bucket_context,\n",
    "                        Key=target_filename,\n",
    "                        Body=encoded_csv_content)"
   ]
  },
  {
   "cell_type": "code",
   "execution_count": null,
   "id": "d51c29c6-a045-4a3f-bd24-06c6238a52ac",
   "metadata": {},
   "outputs": [],
   "source": []
  }
 ],
 "metadata": {
  "kernelspec": {
   "display_name": "Python 3 (ipykernel)",
   "language": "python",
   "name": "python3"
  },
  "language_info": {
   "codemirror_mode": {
    "name": "ipython",
    "version": 3
   },
   "file_extension": ".py",
   "mimetype": "text/x-python",
   "name": "python",
   "nbconvert_exporter": "python",
   "pygments_lexer": "ipython3",
   "version": "3.10.5"
  }
 },
 "nbformat": 4,
 "nbformat_minor": 5
}
