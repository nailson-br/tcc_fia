{
 "cells": [
  {
   "cell_type": "code",
   "execution_count": 1,
   "metadata": {},
   "outputs": [],
   "source": [
    "import boto3\n",
    "from configparser import ConfigParser\n",
    "import pandas as pd\n",
    "import psycopg2\n",
    "from io import BytesIO"
   ]
  },
  {
   "cell_type": "code",
   "execution_count": 2,
   "metadata": {},
   "outputs": [
    {
     "data": {
      "text/plain": [
       "['../config/config.ini']"
      ]
     },
     "execution_count": 2,
     "metadata": {},
     "output_type": "execute_result"
    }
   ],
   "source": [
    "# Carregar as configurações do arquivo ini\n",
    "config = ConfigParser()\n",
    "config.read(\"../config/config.ini\")"
   ]
  },
  {
   "cell_type": "code",
   "execution_count": 3,
   "metadata": {},
   "outputs": [],
   "source": [
    "# Configurações para conexão com o MinIO/S3\n",
    "endpoint = config.get(\"MinIO\", \"endpoint\")\n",
    "access_key = config.get(\"MinIO\", \"access_key\")\n",
    "secret_key = config.get(\"MinIO\", \"secret_key\")\n",
    "bucket_trust = config.get(\"Bucket\", \"bucket_trust\")\n",
    "\n",
    "# Nome do arquivo a ser lido\n",
    "source_filename = config.get(\"FILE\", \"censo_saude_csv\")"
   ]
  },
  {
   "cell_type": "code",
   "execution_count": 4,
   "metadata": {},
   "outputs": [
    {
     "name": "stdout",
     "output_type": "stream",
     "text": [
      "endpoint:  http://minio:9000\n",
      "access_key:  aulafia\n",
      "secret_key:  aulafia@123\n",
      "bucket_trust:  trust\n",
      "source_filename:  CensoSaude.csv\n"
     ]
    }
   ],
   "source": [
    "print(\"endpoint: \", endpoint)\n",
    "print(\"access_key: \", access_key)\n",
    "print(\"secret_key: \", secret_key)\n",
    "print(\"bucket_trust: \", bucket_trust)\n",
    "print(\"source_filename: \", source_filename)"
   ]
  },
  {
   "cell_type": "code",
   "execution_count": 5,
   "metadata": {},
   "outputs": [],
   "source": [
    "# Inicializar o cliente boto3 para S3\n",
    "minio_client = boto3.client(\"s3\", \n",
    "                            endpoint_url=endpoint,\n",
    "                            aws_access_key_id=access_key,\n",
    "                            aws_secret_access_key=secret_key\n",
    ")"
   ]
  },
  {
   "cell_type": "code",
   "execution_count": 6,
   "metadata": {},
   "outputs": [],
   "source": [
    "# Obter o conteúdo do arquivo CSV do MinIO\n",
    "response = minio_client.get_object(Bucket=bucket_trust, Key=source_filename)\n",
    "csv_content = response['Body'].read()"
   ]
  },
  {
   "cell_type": "code",
   "execution_count": 7,
   "metadata": {},
   "outputs": [],
   "source": [
    "# Ler o conteúdo do CSV em um DataFrame\n",
    "df = pd.read_csv(BytesIO(csv_content), dtype=str)"
   ]
  },
  {
   "cell_type": "code",
   "execution_count": 8,
   "metadata": {},
   "outputs": [
    {
     "name": "stdout",
     "output_type": "stream",
     "text": [
      "          ANO     UF Codmun6  Codmun7     Município ESPVIDA FECTOT  MORT1  \\\n",
      "count   16695  16695   16695    16695         16695   16695  16695  16695   \n",
      "unique      3     27    5565     5565          5330    2227    617   3577   \n",
      "top      1991     31  110001  1100015  SÃO DOMINGOS   66.42   2.37   17.7   \n",
      "freq     5565   2559       3        3            15      43    147     71   \n",
      "\n",
      "        MORT5 RAZDEP SOBRE40 SOBRE60  T_ENV  \n",
      "count   16695  16695   16695   16695  16695  \n",
      "unique   5152   5655    1883    2861   1327  \n",
      "top      40.6  53.35   92.11   76.29   5.63  \n",
      "freq       33     12      55      44     47  \n"
     ]
    }
   ],
   "source": [
    "print(df.describe())\n"
   ]
  },
  {
   "cell_type": "code",
   "execution_count": 9,
   "metadata": {},
   "outputs": [
    {
     "name": "stdout",
     "output_type": "stream",
     "text": [
      "ANO             3\n",
      "UF             27\n",
      "Codmun6      5565\n",
      "Codmun7      5565\n",
      "Município    5330\n",
      "ESPVIDA      2227\n",
      "FECTOT        617\n",
      "MORT1        3577\n",
      "MORT5        5152\n",
      "RAZDEP       5655\n",
      "SOBRE40      1883\n",
      "SOBRE60      2861\n",
      "T_ENV        1327\n",
      "dtype: int64\n"
     ]
    }
   ],
   "source": [
    "print(df.nunique())\n"
   ]
  },
  {
   "cell_type": "code",
   "execution_count": 10,
   "metadata": {},
   "outputs": [
    {
     "data": {
      "image/png": "[encoded data removed]",
      "text/plain": [
       "<Figure size 432x288 with 1 Axes>"
      ]
     },
     "metadata": {
      "needs_background": "light"
     },
     "output_type": "display_data"
    }
   ],
   "source": [
    "import matplotlib.pyplot as plt\n",
    "\n",
    "plt.hist(df['ESPVIDA'], bins=20, edgecolor='k')\n",
    "plt.xlabel('Esperança de Vida')\n",
    "plt.ylabel('Frequência')\n",
    "plt.title('Distribuição da Esperança de Vida')\n",
    "plt.show()\n"
   ]
  },
  {
   "cell_type": "code",
   "execution_count": 11,
   "metadata": {},
   "outputs": [
    {
     "name": "stdout",
     "output_type": "stream",
     "text": [
      "Empty DataFrame\n",
      "Columns: []\n",
      "Index: []\n"
     ]
    }
   ],
   "source": [
    "corr_matrix = df.corr()\n",
    "print(corr_matrix)\n"
   ]
  },
  {
   "cell_type": "code",
   "execution_count": 14,
   "metadata": {},
   "outputs": [
    {
     "name": "stdout",
     "output_type": "stream",
     "text": [
      "     UF  FECTOT\n",
      "306  16    8.68\n",
      "308  16    8.68\n",
      "105  13    8.63\n",
      "113  13    8.63\n",
      "165  15    8.29\n",
      "202  15    8.29\n",
      "221  15    8.29\n",
      "245  15    8.21\n",
      "617  21    8.14\n",
      "476  21    7.99\n"
     ]
    }
   ],
   "source": [
    "# Primeiro, vamos converter a coluna 'FECTOT' para o tipo numérico decimal\n",
    "df['FECTOT'] = pd.to_numeric(df['FECTOT'], errors='coerce')\n",
    "\n",
    "# Agora podemos encontrar os top 10 com maiores taxas de fecundidade\n",
    "top_fertility = df.nlargest(10, 'FECTOT')\n",
    "print(top_fertility[['UF', 'FECTOT']])"
   ]
  },
  {
   "cell_type": "code",
   "execution_count": 15,
   "metadata": {},
   "outputs": [
    {
     "data": {
      "image/png": "[encoded data removed]",
      "text/plain": [
       "<Figure size 432x288 with 1 Axes>"
      ]
     },
     "metadata": {
      "needs_background": "light"
     },
     "output_type": "display_data"
    }
   ],
   "source": [
    "plt.bar(df['UF'], df['T_ENV'])\n",
    "plt.xlabel('Unidade Federativa')\n",
    "plt.ylabel('Taxa de Envelhecimento')\n",
    "plt.title('Taxa de Envelhecimento por Unidade Federativa')\n",
    "plt.xticks(rotation=45)\n",
    "plt.tight_layout()\n",
    "plt.show()"
   ]
  }
 ],
 "metadata": {
  "kernelspec": {
   "display_name": "Python 3 (ipykernel)",
   "language": "python",
   "name": "python3"
  },
  "language_info": {
   "codemirror_mode": {
    "name": "ipython",
    "version": 3
   },
   "file_extension": ".py",
   "mimetype": "text/x-python",
   "name": "python",
   "nbconvert_exporter": "python",
   "pygments_lexer": "ipython3",
   "version": "3.10.5"
  }
 },
 "nbformat": 4,
 "nbformat_minor": 4
}
